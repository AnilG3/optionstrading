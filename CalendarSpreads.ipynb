{
 "cells": [
  {
   "cell_type": "markdown",
   "id": "bad554e1-4b12-4fe2-a132-f01805c9a9cc",
   "metadata": {},
   "source": [
    "# Calendar Spreads: Straight, Ratio, and Reverse"
   ]
  },
  {
   "cell_type": "markdown",
   "id": "e869ecf5-8053-4b18-a23a-bab3549bbca7",
   "metadata": {},
   "source": [
    "## Calendar Spreads\n",
    "\n",
    "> McMillan, Lawrence G., Options As A Strategic Investment, 4th Ed., Penguin Putnam, 2002. Chapter 9: Calendar Spreads\n",
    "\n",
    "A calendar spread, also called *time spread* or *horizontal spread*, involves sales of one option and simultaneous purchase of a more distant option, both with same Strike. Time will erode the value of near-term option at a faster rate that for far-term option. If this happens, the spread will widen and a profit may result at near-term expiration.\n",
    "\n",
    "It is not necessary for the underlying to be exactly at strike at near-term expiration for a profit to result. In fact, some profit can be made in a range that extends both below and above the strike. The risk is that stock will drop/rise a great deal, in which case the spread between the two options will shrink and spreader will lose money. However, *the risk is limited to the amount of original debit spent to establish the spread, plus commissions*."
   ]
  },
  {
   "cell_type": "markdown",
   "id": "c0d2824f-a617-45ed-b714-d9d5c27397cf",
   "metadata": {},
   "source": [
    "### The Neutral Calendar Spread\n",
    "\n",
    "The calendar spread that is established when the underlying is at or near the strike is a neutral spread. The strategist is interested in selling time and not in predicting direction. If stock is relatively unchanged when near term option expires, the neutral spread will make a profit. <u>The total width of the profit range is a function of the volatility of the underlying, since that will determine the price of far-term long option at expiration of near-term short option</u>. There is a range within which the spread is profitable at near-term expiration. This type of calendar spread has limited profits and relatively large commission costs. It is generally best to establish such a spread 8 to 12 weeks before the near term option expires, to capitalize on maximum rate of decay of near-term option.\n",
    "\n",
    "#### The Effect of Volatility\n",
    "\n",
    "As volatility increases, the spread widens; as volatility contracts, the spread shrinks. *Buying a calendar spread is an antivolatility strategy*. One wants the underlying to remain somewhat unchanged. If the underlying is volatile, there is a greater chance that it will move outside of the profit area. Second, if the stock does stabilize and trade in a range near strike, the spread will lose value because of the decrease in volatility. That loss may be greater than the gain from time decay.\n",
    "\n",
    "#### Follow-up Action\n",
    "\n",
    "Ideally, the spreader would like to have the stock be just below strike when near-term option expires. If this happens, he can close  the spread with only one commission cost, i.e. sell the long option. Prior to expiration, the spreader should close the spread if the near-term short option is trading at parity, due to substantial change in price of underlying or until quite close to the last day of trading, to avoid assignment.\n",
    "\n",
    "In the case of an early downside breakout by the underlying, the spreader has several choices. He could immediately close the call calendar spread and take a small loss on the premium. Another choice is to leave the spraed alone until the near-term call expires and hope for a partial recovery from underlying to recover some value from the long side of spread. *A riskier downside defensive action is to sell out the long call if stock begins to break down heavily. In this way, the spreader recovered something from the long side of spread immediately and then looks for the underlying to remain depressed so that short side will expire worthless*. The risk assumed by such a follow up violates the initial neutral premise and should therefore be avoided.\n",
    "\n",
    "*The easiest and most conservative downside defensive action is to do nothing at all*, letting the short call expire worthless and then hoping for a recovery by the underlying.\n",
    "\n",
    "If the underlying is moderately below the strike at near-term expiration, the short option will expire worthless and the spreader will be left holding the long option. It is often a reasonable strategy to sell out a portion of long side - recovering a substantial portion of initial investment - and hold the remainder.\n",
    "\n",
    "An early breakout to the upside by the underlying is generally handled in much the same way as a downside breakout. If the underlying rallies shortly after the spread is established, the spraed will shrink by a small amount, but not substantially, because both options will hold premium in a rally. A highly risk oriented upside defensive action is to cover the short call on a technical breakout and continue to hold the long call. This can become disastrous if breakout fails and stock drops, possibly resulting in losses far in excess of the original debit."
   ]
  },
  {
   "cell_type": "markdown",
   "id": "3724c9b7-9338-4846-b989-8bc6b47e5a51",
   "metadata": {},
   "source": [
    "### The Bullish Calendar Spread\n",
    "\n",
    "A bullish call calendar spread is established when the underlying is some distance below the strike price of the calls (OTM). The attractive feature is low dollar investment and large potential profits. This investor ideally wants two things to happen. First, he would like near-term call to expire worthless, the reason for OTM calls. If this happens, the investor will then own the longer-term call at a net cost of original debit. Second, the stock must rise by the time longer-term call expires. There is the potential for large profits in bullish calendar spreads if the underlying rallies above the strike before longer term call expires, provided short-term call has already expired worthless. This strategy offers a small probability of making a large profit. In fact, one large profit can easily offset several losses, because losses are small, dollarwise. This strategy is a reasonable way to speculate, provided following criteria is met:\n",
    "\n",
    "1. Select underlying that are volatile enough to move above strike within allotted time. The spread is not worthwhile for nonvolatile underlying.\n",
    "2. Do not use options more than one strike above current market.\n",
    "3. Do not invest a large percentage of available trading capital in bullish calendar spreads.\n",
    "\n",
    "#### Follow-up Action\n",
    "\n",
    "If underlying rally before near-term call expires, spreader must not consider covering the short call at a loss and attempting to ride the long call. Either action could turn the initial small limited loss into a disastrous loss. The only reasonable sort of follow-up action is to close the spread if the underlying has moved up in price and the spread has widened to become profitable."
   ]
  },
  {
   "cell_type": "markdown",
   "id": "0c065580-fa7c-4a67-b9ae-9bce348247ce",
   "metadata": {},
   "source": [
    "### Calendar Spreads with Puts\n",
    "\n",
    "There are two philosophies available for put calendar spreads: neutral or bearish.\n",
    "\n",
    "In a neutral calendar spread, one sets up the spread with the idea of closing the spread when the near-term call or put expires. The spreader is merely attempting to capitalize on the fact that the time value premium disappears more rapidly from a near-term option that it does from a longer term one. Since commission costs can cut into available profits substantially, spreads should be established in a large enough quantity (at least 10 spreads) to minimize the commission cost.\n",
    "\n",
    "The maximum loss would be realized if the underlying moved substantially far away from the strike by the time near-term option expired.\n",
    "\n",
    "*Neutral call calendar spreads are generally superior to neutral put calendar spreads.* Since the amount of time value premium is usually grater in call option, spreader who is interested in selling time value would be better off utlizing call options.\n",
    "\n",
    "With put options, a bearish strategy can be constructed using a calendar spread with OTM puts. The near-term put must expire worthless, and then the underlying must drop in order to generate profit on the long side."
   ]
  },
  {
   "cell_type": "markdown",
   "id": "0e2a8011-3b34-41f7-bf5c-81eba3a164cf",
   "metadata": {},
   "source": [
    "## Ratio Calendar Spread\n",
    "\n",
    "> McMillan, Lawrence G., Options As A Strategic Investment, 4th Ed., Penguin Putnam, 2002. Chapter 12: Combining Calendar and Ratio Spreads\n",
    "\n",
    "The ratio calendar spread is an attempt to raise the probabilities of profit while allowing for large potential profits. In the ratio calendar spread, one sells a number of near-term calls while buying fewer long-term calls, often possible for a credit. If the underlying remains below strike until near-term short calls expire, the long-term long calls will be owned free, and after that the spread can't lose money.\n",
    "\n",
    "If the underlying should rally above strike before short-term short calls expiration, the spread is in danger of losing a large amount and defensive action must be taken. If the stock rallies *immediately*, the spread will show a loss.\n",
    "\n",
    "### Choosing the Spread\n",
    "\n",
    "* Select a volatile stock enough to move above the strike after the near-term expires but before long call expires.\n",
    "* Do not use calls that are so far OTM that it would be virtually impossible for the stock to reach the strike.\n",
    "* Always set up the spread for a credit. This will assure that a profit will be made even if the stock goes nowhere.\n",
    "\n",
    "The *upside break-even point* prior to short-term expiration should be determined using a pricing model. This will allow to take defensive action by closing out the spread before break-even point is reached. When the long option in a spread expires at a different time from the short option, the breakeven point is dynamic. The break-even price increase as time passes.\n",
    "\n",
    "### Follow-up Action\n",
    "\n",
    "The long call quite adequately compensate for the losses on the short call up to a certain point, when stock rallies before short-term expiration. However, the stock cannot be allowed to run. A rule to thumb is to close the spread if stock breaks above the break-even point at expiration.\n",
    "\n",
    "### The Probabilities are Good\n",
    "\n",
    "The spread will make money if the stock never rallies above the strike, since spread is established for a credit. In addition, the spread can make large potential profits if the stock rallies after the near-term calls expire. The only time the spread loses is when stock rallies quickly, the spread should be closed out in that case to limit losses. The strategy has positive expected return. Small profits occur more frequently than small losses do, and sometimes large profits can occur.\n",
    "\n",
    "### Delta-Neutral Calendar Spreads\n",
    "\n",
    "The number of calls to sell for each one purchased is determined by dividing the delta of the long call by the delta of the short call.\n",
    "\n",
    "One normally sells more calls than buys to establish a neutral calendar when the calls are OTM.\n",
    "\n",
    "#### ITM Calendar Spread\n",
    "\n",
    "For ITM calls, a shorter-term call has a higher delta than a longer-term call. Thus, more calls are bought than sold when establishing ITM neutral calendar.\n",
    "\n",
    "First, there is no risk to the upside as there is with OTM calendar; the ITM calendar would make money, because there are extra long calls in the position. On the other hand, if stock stays in the same area, then the regular calendar spread portion of strategy will make money. Even though the extra call would probably lose some time value premium in that event, the other spreads would make a large enough profit to easily compensate for the loss on the one long call. The least desirable result would be for stock to drop precipitously, the loss is limited to the amount of the initial debit of the spread. There are no naked calls to margin with this strategy.\n",
    "\n",
    "#### Follow-up Action\n",
    "\n",
    "Merely keep the deltas neutral. One might switch from OTM with naked calls to ITM with extra long calls, or vice versa. Maintaining the neutral ratio might not be practical for small positions.\n",
    "\n",
    "### Ratio Put Calendar Spread\n",
    "\n",
    "The position is generally established with OTM puts so that there is a greater probability that the near-term puts will expire worthless. Also, the position should be established for a credit. If near-term puts expire worthless, then the longer-term put are owned for free and large profits could result if the stock subsequently experiences a sizable downward movement. The risk could be very large if the stock should drop well below strike before near-term puts expire. <u>Normally, one would close the position if the stock fell more than 8 to 10% below the strike before near-term puts expire.</u> Since the position should be established with stock above put strike, there is a reasonable chance that the near-term puts will expire worthless. However, one should take care to limit losses before near-term expiration, since the eventual large profits will be able to overcome a series of small losses, but could not overcome a preponderance of large losses.\n",
    "\n",
    "#### Delta-Neutral Ratio Put Calendars\n",
    "\n",
    "If the puts are initially OTM, then the neutral spread generally involves selling more puts than one buys. With ITM puts, one would buy more puts than he sells in order to create a neutral ratio.\n",
    "\n",
    "### Ratio Calendar Combination\n",
    "\n",
    "A logical combination of two types of ratio calendar spreads (put and call) would be the *ratio combination* - buying a longer-term OTM combination and selling several near-term OTM combinations.\n",
    "\n",
    "If the near-term combination expires worthless, the longer-term combination is owned for free, and a large profit could result on a substantial stock movemen in either direction. The large losses would be possible if the stock broke out in either direction too quickly before the near-term options expire. In the absence of technical opionion on underlying, one can generally compute a stock price at which it might be reasonable to take follow-up action. In practice, if the stock should reach breakeven levels *before*, rather than *at* expiration, a small loss will be incurred by closing the ITM side of combination. This action should still be taken, however, as *the objective of risk management of this strategy is to take small losses, if necessary.* Eventually, large profits may be generated that could more than compensate for any small losses that were incurred.\n",
    "\n",
    "When the underlying is relatively unchanged at near-term expiration, a relatively large profit would exist at that time. As long as the near-term combination can be bought back for less than the original credit of the position, the position will show a total unrealized gain at near-term expiration. The general philosophy should be to hold on the longer term combination. A profit is already guaranteed at this time - the worst that can happen is the original credit as profit. Consequently, the opportunity to make larger profits should be availed."
   ]
  },
  {
   "cell_type": "markdown",
   "id": "9002b059-15a8-4b65-9456-043d58c25866",
   "metadata": {},
   "source": [
    "## Reverse Calendar Spreads\n",
    "\n",
    "In the *reverse* calendar spread, one sells a long-term call option and simultaneously buys a shorter-term call option at same strike.\n",
    "\n",
    "This strategy will make money if:\n",
    "\n",
    "1. Stock price moves away from the strike by a great deal, or\n",
    "2. Implied Volatility of the options involved in spread shrinks.\n",
    "\n",
    "If stock falls dramatically, both call options will be nearly worthless and the spread could be brought back for a price well below originally paid. The other way to make money would be for IV to decrease, before near-term expiration.\n",
    "\n",
    "There are two ways to make money with this strategy, and it is therefore best to establish it when IV is high and the underlying has a tendency to be volatile. If one has excess collateral and is interested in generating excess income in a hedged manner, then the strategy might be applicable."
   ]
  },
  {
   "cell_type": "markdown",
   "id": "728b6f8a-64f7-4d27-88c8-3c81a1425f1d",
   "metadata": {},
   "source": [
    "#### How Volatility Affects Calendar Spreads\n",
    "\n",
    "An increase in IV will cause a calendar spread to widen out. Both options will become more expensive, but the *absolute* price change will be greatest in long-term option. Therefore calendar spread will widen.\n",
    "\n",
    "First examine the vegas of the two options. The difference between the vega of the long option and that of the short option will show the volatility exposure. If vega is positive, this means that an increase in IV will be beneficial to the spread. In other words, one can expect the spread to widen if IV rises and can expect the spread to shrink if IV declines.\n",
    "\n",
    "IV levels have a huge effect on the value of a calendar spread. The actual initial contribution of time decay is rather small in comparison.\n",
    "\n",
    "A calendar spread is a \"long volatility\" play and a reverse calendar spread is just the opposite. Evaluate the position risk with an eye to what might happen to IV, and not just to where the stock price might go or how much time decay there might be in the position."
   ]
  }
 ],
 "metadata": {
  "kernelspec": {
   "display_name": "Python 3 (ipykernel)",
   "language": "python",
   "name": "python3"
  },
  "language_info": {
   "codemirror_mode": {
    "name": "ipython",
    "version": 3
   },
   "file_extension": ".py",
   "mimetype": "text/x-python",
   "name": "python",
   "nbconvert_exporter": "python",
   "pygments_lexer": "ipython3",
   "version": "3.8.13"
  }
 },
 "nbformat": 4,
 "nbformat_minor": 5
}
