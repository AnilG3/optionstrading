{
 "cells": [
  {
   "cell_type": "markdown",
   "id": "e2d349ac-4631-457f-8636-53120a12b05c",
   "metadata": {},
   "source": [
    "> Sheldon Natenberg, Option Volatility and Pricing, Advanced Trading Strategies and Techniques, McGraw Hill, 2014."
   ]
  },
  {
   "cell_type": "markdown",
   "id": "2ec41eed-29fc-47b5-b743-019733f0a3f2",
   "metadata": {},
   "source": [
    "## Binomial Option Pricing\n",
    "\n",
    "Binomial model, also known as the Cox-Ross-Rubinstein model, can be used to price some options primarily American options that cannot be priced using the Black-Scholes model.\n",
    "\n",
    "### A Risk Neutral World\n",
    "\n",
    "$S$ = current security price,\n",
    "\n",
    "$u$ and $d$ = multipliers that represent the magnitude of the upward and downward moves.\n",
    "\n",
    "$p$ = probability of upward movement,\n",
    "\n",
    "$1 - p$ = probability of downward movement.\n",
    "\n",
    "In a risk-neutral world,"
   ]
  },
  {
   "cell_type": "markdown",
   "id": "33fbc9a5-477f-41cf-bd0b-d18b59826de0",
   "metadata": {},
   "source": [
    "$$p(Su) + (1 - p)Sd = S$$\n",
    "\n",
    "$$pu + d - pd = 1$$\n",
    "\n",
    "$$p = \\frac{1 - d}{u - d}\\$$"
   ]
  },
  {
   "cell_type": "markdown",
   "id": "843c8543-6aa6-4467-9362-cb2d5f17e057",
   "metadata": {},
   "source": [
    "For an investor to be indifferent to buying or selling, the risk neutral probabilities must yield a value that is equal to the forward price for the stock $S(1 + r t)$."
   ]
  },
  {
   "cell_type": "markdown",
   "id": "caa00774-558e-4297-b312-40c3a48b10fb",
   "metadata": {},
   "source": [
    "$$p(Su) + (1 - p)Sd = S(1 + r t)$$\n",
    "$$pu + d - pd = 1 + r t$$\n",
    "$$p = \\frac{(1 + r t) - d}{u - d}\\$$"
   ]
  },
  {
   "cell_type": "markdown",
   "id": "4adb5612-f257-4266-8d35-16829197881f",
   "metadata": {},
   "source": [
    "### Valuing an Option\n",
    "\n",
    "Value an option using a one-period binomial tree. At expiration, an expiration is worth its intrinsic value, the maximum of $[S - X, 0]$ for a Call and the maximum of $[X - S, 0]$ for a Put.\n",
    "\n",
    "The expected value of a Call\n",
    "\n",
    "$$p * max[Su - X, 0] + (1 - p) * max[Sd - X, 0]$$\n",
    "\n",
    "Theoretical value of the Call is the present value of the expected value\n",
    "\n",
    "$$\\frac{p * max[Su - X, 0] + (1 - p) * max[Sd - X, 0]}{1 + r * t}$$\n",
    "\n",
    "Theoretical value of the Put\n",
    "\n",
    "$$\\frac{p * max[X - Su, 0] + (1 - p) * max[X - Sd, 0]}{1 + r * t}$$"
   ]
  },
  {
   "cell_type": "markdown",
   "id": "7fb5c5a5-d160-4f35-a3b9-b744885b2fd6",
   "metadata": {},
   "source": [
    "Expand our binomial tree to two periods each of length $t / 2$ and also assumption that `u` and `d` are multiplicative inverses.\n",
    "\n",
    "$$d = \\frac{1}{u}$$\n",
    "\n",
    "$$u = \\frac{1}{d}$$\n",
    "\n",
    "$$u * d = d * u = 1$$\n",
    "\n",
    "An up move followed by a down move or down move followd by an up move results in the same price."
   ]
  },
  {
   "cell_type": "markdown",
   "id": "440c7722-e49a-49c0-b4fd-74a6877c8692",
   "metadata": {},
   "source": [
    "If $u$ and $d$ are same at every branch in our binomial tree, then in risk neutral world, the probability of an upward move\n",
    "\n",
    "$$p = \\frac{[1 + (r * t / n)] - d}{u - d}$$\n",
    "\n",
    "and probability of down move $1 - p$"
   ]
  },
  {
   "cell_type": "markdown",
   "id": "58dbf4dd-602e-4da9-8e4d-a3d1af104db1",
   "metadata": {},
   "source": [
    "In two period binomial, there are three possible underlying prices at expiration $Suu$, $Sud$, and $Sdd$. There is only one path to either $Suu$ or $Sdd$ but two possible paths to the middle price $Sud$. Theoretical value of a Call in the two period tree\n",
    "\n",
    "$$\\frac{p * max[Suu - X, 0] + 2 * p * (1 - p) * max[Sud - X, 0] + (1 - p) * max[Sdd - X, 0]}{(1 + r * t / 2)^2}$$\n",
    "\n",
    "The value of a Put\n",
    "\n",
    "$$\\frac{p * max[X - Suu, 0] + 2 * p * (1 - p) * max[X - Sud, 0] + (1 - p) * max[X - Sdd, 0]}{(1 + r * t / 2)^2}$$"
   ]
  },
  {
   "cell_type": "markdown",
   "id": "31e189ec-57d3-4a97-93ea-bcddab6c7820",
   "metadata": {},
   "source": [
    "Using this approach, we can expand our binomial tree to any number of periods.\n",
    "\n",
    "$n$ = number of periods in binomial tree\n",
    "\n",
    "$t$ = time to expiration in years\n",
    "\n",
    "$r$ = annual interest rate\n",
    "\n",
    "Possible terminal underlying prices are $S * u^j * d^{(n - j)}$ for $j$ = 0, 1, 2, ..., n.\n",
    "\n",
    "Number of paths that will lead to each terminal price is given by *binomial expansion* \n",
    "$$\\frac{n!}{j! (n - j)!}$$"
   ]
  },
  {
   "cell_type": "markdown",
   "id": "0c6297e4-a4b8-400f-b3d3-67a8a8e4aefd",
   "metadata": {},
   "source": [
    "The values of a European Call and Put\n",
    "\n",
    "$$Call = \\frac{1}{(1 + r * t / n)^n}\\sum_{j=0}^n\\frac{n!}{j! (n - j)!} * p^j (1 - p)^{n - j} * max[S u^j d^{n - j} - X, 0]$$\n",
    "\n",
    "$$Put = \\frac{1}{(1 + r * t / n)^n}\\sum_{j=0}^n\\frac{n!}{j! (n - j)!} * p^j (1 - p)^{n - j} * max[X - S u^j d^{n - j}, 0]$$"
   ]
  },
  {
   "cell_type": "markdown",
   "id": "ec8bfebd-f1b5-4f63-92f4-44f6bff7e255",
   "metadata": {},
   "source": [
    "#### Three-Period Example\n",
    "\n",
    "$n = 3$\n",
    "\n",
    "$S = 100$\n",
    "\n",
    "$t =$ 9 months (0.75 year)\n",
    "\n",
    "$r =$ 4% (0.04)\n",
    "\n",
    "$u = 1.05$\n",
    "\n",
    "$d = 1/u = 1/1.05 \\approx 0.9524$\n",
    "\n",
    "$$p = \\frac{(1 + r * t / n) - d}{u - d} = \\frac{(1 + 0.04 * 0.75 / 3) - 0.9524}{1.05 - 0.9524} = 0.59$$\n",
    "\n",
    "$$1 - p = 1 - 0.59 = 0.41$$\n",
    "\n",
    "Using the three-period binomial tree, what should be the value of a 100 Call and a 100 Put? *Also see Figure 19-1 p. 363.*\n",
    "\n",
    "| Terminal Price | 100 Call Value | 100 Put Value | Probability | Number of Paths | Total Probability |\n",
    "|---|---|---|---|---|---|\n",
    "| 115.76 | 115.76 - 100 = 15.76 | 0 | 0.59 x 0.59 x 0.59 = 0.2054 | 1 | 0.2054 |\n",
    "| 105.00 | 105.00 - 100 = 5.00 | 0 | 0.59 x 0.59 x 0.41 = 0.1427 | 3 | 0.4281 |\n",
    "| 95.24 | 0 | 100 - 95.24 = 4.76 | 0.59 x 0.41 x 0.41 = 0.0992 | 3 | 0.2976 |\n",
    "| 86.38 | 0 | 100 - 86.38 = 13.62 | 0.41 x 0.41 x 0.41 = 0.0689 | 1 | 0.0689 |\n",
    "\n",
    "The value of 100 Call\n",
    "\n",
    "$$\\frac{0.2054 * (115.76 - 100) + 0.4281 * (105.00 - 100)}{(1 + 0.03 / 3)^3} = \\frac{0.2054 * 15.76 + 0.4281 * 5.00}{(1.0927 / 3)^3} = 5.22$$\n",
    "\n",
    "The value of 100 Put\n",
    "$$\\frac{0.2976 * (100 - 95.24) + 0.0689 * (100 - 86.38)}{(1 + 0.03 / 3)^3} = \\frac{0.2976 * 4.76 + 0.0689 * 13.62}{(1.0927 / 3)^3} = 2.28$$"
   ]
  },
  {
   "cell_type": "markdown",
   "id": "8be5d5e7-c274-47b9-9ad0-5a1eb3499c27",
   "metadata": {},
   "source": [
    "Put-Call parity for one time period\n",
    "\n",
    "$$C - P = \\frac{F - X}{1 + r * t}$$\n",
    "\n",
    "Forward price for three time periods\n",
    "\n",
    "$$F = 100 * (1 + 0.75 * 0.04 / 3)^3 = 100 * 1.0303 = 103.03$$\n",
    "\n",
    "Then,\n",
    "\n",
    "$$\\frac{F - X}{(1 + r * t / n)^n} = \\frac{103.03 - 100}{1.0303} = 2.94$$\n",
    "\n",
    "$$C - P = 5.22 - 2.28 = 2.94$$"
   ]
  },
  {
   "cell_type": "markdown",
   "id": "658b1678-e87e-420f-8911-bc019ca1eab4",
   "metadata": {},
   "source": [
    "#### Binomial Notation\n",
    "\n",
    "Each price in the binomial tree $S_{i,j}$ where $i, j = 0, 1, 2, ..., n$. The value of $i$ locates $S$ along the tree moving from left to right. The value of $j$ locates $S$ moving from bottom to top.\n",
    "\n",
    "Instead of filling in a binomial tree with underlying prices $S_{i,j}$ at each node, we can instead fill with option values, either $C_{i,j}$ for Calls or $P_{i,j}$ for Puts. The terminal values $C_{n,j}$ are simply the maximum of either $S_{n,j}$ or 0.\n",
    "\n",
    "It's obvious what the value of the 100 Call is at expiration, either intrinsic value or 0. But what should be the value of the Call at other other nodes along the tree? To determine these values, we can work backwards from the terminal values using the probabilities of upward and downward moves and discounting by interest to determine the present value.\n",
    "\n",
    "We can express the value of a Call at any point along the binomial tree as\n",
    "\n",
    "$$C_{i,j} = \\frac{pC_{i+1, j+1} + (1 - p)C_{i+1, j}}{1 + r * t/n}$$\n",
    "\n",
    "Working backwards along the tree, we come finally to $C_{0,0}$, the option's initial theoretical value.\n",
    "\n",
    "The intermediate values not only enable us to determine some of the risk sensitivities associated with option but also enable us to calculate the value of an American option."
   ]
  },
  {
   "cell_type": "markdown",
   "id": "4ea89ca8-23b6-4210-b8f2-975643958abb",
   "metadata": {},
   "source": [
    "### The Delta\n",
    "\n",
    "The delta is the change in the option's value with respect to movement in the price of underlying.\n",
    "\n",
    "$$\\Delta = \\frac{C_u - C_d}{S_u - S_d}$$\n",
    "\n",
    "We can calculate the delta at every point along the binomial tree\n",
    "\n",
    "$$\\Delta_{i, j} = \\frac{C_{i+1, j+1} - C_{i+1, j}}{S_{i+1, j+1} - S_{i+1, j}}$$\n",
    "\n",
    "If we are able to buy an option at a price less than theoretical value or sell an option at a price greater than theoretical value, we will show a profit at expiration equal to difference between the price at which we traded the option and its theoretical value. This is the principle of dynamic hedging (Chapter 8)."
   ]
  },
  {
   "cell_type": "markdown",
   "id": "393fcaa2-bf36-46c7-85f0-d562ea5fad2f",
   "metadata": {},
   "source": [
    "### The Gamma\n",
    "\n",
    "The gamma is the change in the option's delta with respect to movement in the price of the underlying. We can calculate the gamma at any point along the binomial tree by dividing the change in the option's delta by the change in the underlying.\n",
    "\n",
    "$$\\Gamma_{i, j} = \\frac{\\Delta_{i+1, j+1} - \\Delta_{i+1, j}}{S_{i+1, j+1} - S_{i+1, j}}$$"
   ]
  },
  {
   "cell_type": "markdown",
   "id": "906b277a-e858-49f0-8b02-a9718f90e079",
   "metadata": {},
   "source": [
    "### The Theta\n",
    "\n",
    "The theta is the change in an option's value as time passes, assuming everything else including the underlying price, remains unchanged.\n",
    "\n",
    "In binomial model, at each time period, the underlying price is assumed to move either up or down. The underlying price remains unchanged only after two time periods, when the underlying price either goes up and down or down and up. To approximate the theta, we must therefore consider the change over two time periods.\n",
    "\n",
    "We can approximate the daily theta at any point along the tree as\n",
    "\n",
    "$$\\Theta = \\frac{C_{i, j} - C_{i+2, j+1}}{t * \\frac{365}{n}}$$"
   ]
  },
  {
   "cell_type": "markdown",
   "id": "f6b2eaa3-8ffc-48ab-838a-4414afa46212",
   "metadata": {},
   "source": [
    "### Vega and Rho\n",
    "\n",
    "There is no simple solution to the volatility and interest rate sensitivities. To determine the Vega, we must change the volatility input and then see how option's value changes. To determine the Rho, we must change the interest rate input."
   ]
  },
  {
   "cell_type": "markdown",
   "id": "0e169ad2-3ba8-4b20-8f7c-49d432f9b17d",
   "metadata": {},
   "source": [
    "### The Values of $u$ and $d$\n",
    "\n",
    "We have chosen the upward move $u$ and downward move $d$ so that they form a *recombining binomial tree*. The terminal price is independent of the order in which the price moves occur.\n",
    "\n",
    "$$u * d = d * u$$\n",
    "\n",
    "If the upward and downward moves are not recombining, each node on the binomial tree would yield a completely new set of upward and downward values.\n",
    "\n",
    "We have chosen $u$ and $d$ so that they are the multiplicative inverse of each other. This ensures if the security makes on up followed by down move or a down move followed by up move, the resulting underlying price will be same at which it began.\n",
    "\n",
    "$$u * d = d * u = 1$$\n",
    "\n",
    "If $u$ and $d$ were not inverse, there will be a *drift* in underlying price.\n",
    "\n",
    "$u$ and $d$ must be derived from the volatility input. If we want binomial values to approximate Black-Scholes values, $u$ and $d$ must be chosen so that the terminal prices approximate a lognormal distribution. We can achieve this by defining $u$ and $d$ as a one standard deviation price change over each time period in our binomial tree $u = e^{\\sigma \\sqrt{t/n}}$ and $d = e^{-\\sigma \\sqrt{t/n}}$."
   ]
  },
  {
   "cell_type": "markdown",
   "id": "cf8e8ee6-e79f-4cb0-9ce8-482e635995d5",
   "metadata": {},
   "source": [
    "### Gamma Rent\n",
    "\n",
    "A positive gamma, negative theta position will make money through dynamic hedging but lose money though time decay. A negative gamma, positive theta will perform just the opposite, losing money through dynamic hedging and but making money through time decay. The volatility trading sometime referred as *renting* the gamma, with theta being the rental cost.\n",
    "\n",
    "Over a given time period, how much movement is required in the underlying to offset the effects of time decay? We know that a delta-neutral position taken at theoretical value will just break even if underlying moves either up by $u$ or down by $d$. But these values are equal to a one standard deviation price change over the time interval $t/n$. Therefore, over any interval of time, the amount of price movement needed in underlyng to just breakeven must be equal to one standard deviation.\n",
    "\n",
    "For very short time intervals or with a great deal of time remaining to expiration, this approximation will be reasonably accurate."
   ]
  },
  {
   "cell_type": "markdown",
   "id": "5f85d250-bfa0-4316-8b50-5b57361c20a2",
   "metadata": {},
   "source": [
    "### American Options\n",
    "\n",
    "If we assume that the 100 Put is European and cannot be exercised early, the only reason to calculate the imtermediate values is to determine the delta and gamma. But suppose that the 100 Put is American. Might there be any reason to exercise the option prior to expiration?\n",
    "\n",
    "If we are using a binomial tree to evaluate an American option, we might compare the value of the Eurpoean option with intrinsic value at each node. If the intrinsic value is greater than the European value, we can replace the value at that node with option's intrinsic value and then continue to work backwards to determine the option's value at each preceeding node."
   ]
  },
  {
   "cell_type": "markdown",
   "id": "694b4fcc-0c36-41b7-9bb1-7267c9722a45",
   "metadata": {},
   "source": [
    "### Dividends\n",
    "\n",
    "How does the possibility of early exercise affect the value of a Call? At no point call value is less than intrinsic value, i.e. European and American values must be same. If a stock doesn't pay a dividend over the life of option, there is never any reason to exercise an American stoxk option call early.\n",
    "\n",
    "But what if the stock does pay a dividend? When a stock pays a dividend, its price typically drops by the amount of the dividend. Consequently, each terminal price will be reduced by the dividend. If we want to calculate the value of a specific option, we can use these new terminal prices.\n",
    "\n",
    "The simplest way to handle dividend payments is to create a complete binomial tree without dividends and then reduce the stock price at each node by the amount of dividends. This is only an approximation.\n",
    "\n",
    "### Pseudoprobabilities\n",
    "\n",
    "We typically expect probability to fall between 0 \"no chance\" and 1 \"absolute certainty\". However this is not true for $p$ and $1-p$ (Figure 19-11).\n",
    "\n",
    "> Stock price $S$ = 100\n",
    "\n",
    "> Time to expiration $t$ = 9 months\n",
    "\n",
    "> Number of periods $n$ = 3\n",
    "\n",
    "> Interest rate $r$ = 4%\n",
    "\n",
    "> $u$ = 1.05\n",
    "\n",
    "> $d = 1/u$ = 0.9524\n",
    "\n",
    "The values for $p$ and $1-p$ resulting from these values are 0.59 and 0.41, respectively. Suppose in high inflationary climate, interest rate $r$ rises from 4% to 40%. The new values of $p$ and $1-p$ will be\n",
    "\n",
    "$$p = \\frac{(1 + r * \\frac{t}{n}) - d}{u - d} = \\frac{(1 + 0.1) - 0.9524}{1.05 - 0.9524} = 1.51$$\n",
    "\n",
    "$$1 - p = 1 - 1.51 = -0.51$$\n",
    "\n",
    "In fact, $p$ and $1 - p$ can fall outside the range of typical probability, and sometimes referred to as *pseudoprobabilities*. The implication of $p$ being greater than 1 and $1 - p$ being less than 0 means that the potential for movement in the underlying is not sufficiently large to offset the interest loss should you buy the stock.\n",
    "\n",
    "Of course, if we increase the volatility by increasing $u$, then potential profit will go up. With large enough value for $u$, the values for $p$ and $1 - p$ will indeed fall between 0 and 1."
   ]
  },
  {
   "cell_type": "markdown",
   "id": "138147c0-18df-4a77-8623-c68db6be0553",
   "metadata": {},
   "source": [
    "### Binomial Model and variations\n",
    "\n",
    "$S$ = the spot price or underlying price\n",
    "\n",
    "$X$ = the exercise price\n",
    "\n",
    "$t$ = the time to expiration in years\n",
    "\n",
    "$r$ = domestic interest rate\n",
    "\n",
    "$\\sigma$ = the annualized volatility or standard deviation, in percent\n",
    "\n",
    "$n$ = the number of periods in the binomial tree\n",
    "\n",
    "$u = e^{\\sigma \\sqrt{\\frac{t}{n}}}$ = upside move\n",
    "\n",
    "$d = \\frac{1}{u} = e^{-\\sigma \\sqrt{\\frac{t}{n}}}$ = downside move\n",
    "\n",
    "$p = \\frac{[(1 + \\frac{bt}{n}) - d]}{[u - d]}$ = probability of upward move\n",
    "\n",
    "$$Call = \\frac{1}{(1 + \\frac{rt}{n})^n} \\sum_{j=0}^n \\frac{n!}{j! (n - j)!} p^j (1 - p)^{n - j} max[Su^j d^{n - j} - X, 0]$$\n",
    "\n",
    "$$Put = \\frac{1}{(1 + \\frac{rt}{n})^n} \\sum_{j=0}^n \\frac{n!}{j! (n - j)!} p^j (1 - p)^{n - j} max[X - Su^j d^{n - j}, 0]$$"
   ]
  },
  {
   "cell_type": "markdown",
   "id": "e64d69cf-94ba-4a14-9701-18a5b72cc2ac",
   "metadata": {},
   "source": [
    "The variation on the binomial model are determined by the value of $r$ and $b$.\n",
    "\n",
    "$b = r > 0$: The binomial model for options on stock\n",
    "\n",
    "$b = r = 0$: The binomial model for options on futures where the options are subject to future-type settlement\n",
    "\n",
    "$b = 0$ and $r > 0$: The binomial model for options on futures where the options are subject to stock-type settlement\n",
    "\n",
    "$b = r - r_f$: The binomial model for options on foreign currencies, where $r_f$ is the foreign interest rate"
   ]
  },
  {
   "cell_type": "markdown",
   "id": "569498dd-b763-4e01-9343-1d5eb5aed3a7",
   "metadata": {},
   "source": [
    "The value of an option at any node along the binomial tree\n",
    "\n",
    "$$C_{i,j} = \\frac{[pC_{i+1,j+1} + (1 - p)C_{i+1,j}]}{(1 + \\frac{rt}{n})}$$\n",
    "\n",
    "$$P_{i,j} = \\frac{[pP_{i+1,j+1} + (1 - p)P_{i+1,j}]}{(1 + \\frac{rt}{n})}$$"
   ]
  },
  {
   "cell_type": "markdown",
   "id": "be263845-85cd-4861-b7d0-0ab8063e60ab",
   "metadata": {},
   "source": [
    "The delta of a call ($\\Delta C$) or put ($\\Delta P$) at any node along the binomial tree\n",
    "\n",
    "$$\\Delta C_{i,j} = \\frac{(C_{i+1,j+1} - C_{i+1,j})}{(S_{i+1,j+1} - S_{i+1,j})}$$\n",
    "\n",
    "$$\\Delta P_{i,j} = \\frac{(P_{i+1,j+1} - P_{i+1,j})}{(S_{i+1,j+1} - S_{i+1,j})}$$"
   ]
  },
  {
   "cell_type": "markdown",
   "id": "6acd465e-fcd7-4614-aab6-58ed540ff4cd",
   "metadata": {},
   "source": [
    "The gamma of a call ($\\Gamma C$) or put ($\\Gamma P$) at any node along the binomial tree\n",
    "\n",
    "$$\\Gamma C_{i, j} = \\frac{\\Delta C_{i+1, j+1} - \\Delta C_{i+1, j}}{S_{i+1, j+1} - S_{i+1, j}}$$\n",
    "\n",
    "$$\\Gamma P_{i, j} = \\frac{\\Delta P_{i+1, j+1} - \\Delta P_{i+1, j}}{S_{i+1, j+1} - S_{i+1, j}}$$"
   ]
  },
  {
   "cell_type": "markdown",
   "id": "7b8f22e2-bb6f-43bf-bc04-87a003f6c97c",
   "metadata": {},
   "source": [
    "The annual theta of a call ($\\Theta C$) or put ($\\Theta P$) at any node along the binomial tree\n",
    "\n",
    "$$\\Theta C_{i,j} = \\frac{C+_{i+1,j+2} - C_{i,j}}{t}$$\n",
    "\n",
    "$$\\Theta P_{i,j} = \\frac{P+_{i+1,j+2} - P_{i,j}}{t}$$"
   ]
  },
  {
   "cell_type": "markdown",
   "id": "d29e95db-9acf-4e3a-a1c8-2fec0f152d3e",
   "metadata": {},
   "source": [
    "### Comparison to Black-Scholes\n",
    "\n",
    "Black-Scholes model cannot be used to evaluate American options, so comparison only makes sense for European options. Binomial values for Call and Put are greater than the true Black-Scholes values for three period binomial tree. We can increase the accuracy of binomial model by increasing the number of time periods. If we build a tree with an infinite number of time periods, the error will converge to 0 and the binomial and B-S values will be identical. Given the tradeoff between accuracy and speed, a common choice is often somewhere between 50 and 100 periods.\n",
    "\n",
    "The accuracy can be further increased by taking the average value generated by two periods, referred as *half steps*. For example, the 9-period tree overvalues the 100 Call by about 0.07 (BS value - Binomial value) whereas 10-period tree undervalues by about 0.09. If we take the average, the option is undervalued by only 0.01."
   ]
  }
 ],
 "metadata": {
  "kernelspec": {
   "display_name": "Python 3 (ipykernel)",
   "language": "python",
   "name": "python3"
  },
  "language_info": {
   "codemirror_mode": {
    "name": "ipython",
    "version": 3
   },
   "file_extension": ".py",
   "mimetype": "text/x-python",
   "name": "python",
   "nbconvert_exporter": "python",
   "pygments_lexer": "ipython3",
   "version": "3.8.12"
  }
 },
 "nbformat": 4,
 "nbformat_minor": 5
}
