{
 "cells": [
  {
   "cell_type": "markdown",
   "id": "e53fe706-64ed-410e-aae5-edad8c8ddad1",
   "metadata": {},
   "source": [
    "> Sheldon Natenberg, Option Volatility and Pricing, Advanced Trading Strategies and Techniques, McGraw Hill, 2014."
   ]
  },
  {
   "cell_type": "markdown",
   "id": "39c24011-9359-4e0d-91e3-d8043ec8ea81",
   "metadata": {},
   "source": [
    "## 18. The Black-Scholes Model (BSM)\n",
    "\n",
    "### The Black-Scholes Equation\n",
    "\n",
    "If the stock price moves randomly over time, but in a manner that is consistent with a constant interest rate and volatility, what must be the option price after each moment in time such that an option position that is correctly hedged will just break even? The answer:"
   ]
  },
  {
   "cell_type": "markdown",
   "id": "1b7bf883-5074-4196-a0f9-8f0ba098afbd",
   "metadata": {},
   "source": [
    "$$ rS \\frac{\\partial C}{\\partial S} + \\frac{1}{2}\\sigma^2 S^2\\frac{\\partial^2 C}{\\partial S^2} + \\frac{\\partial C}{\\partial t} = rC $$"
   ]
  },
  {
   "cell_type": "markdown",
   "id": "db5ab9a2-8429-4509-b115-84113b1ed97b",
   "metadata": {},
   "source": [
    "This equation just expresses how changes in one set of variables - stock price $S$ and time $t$ - affect the value of something else, a call $C$. To determine the exact effect caused by changes in variables, one must solve the equation.\n",
    "\n",
    "As inputs into the model, the volatility $\\sigma$ and interest rate $r$ will affect the value of the option. But once chosen, they are assumed to remain constant over the life of option.\n",
    "\n",
    "The terms $\\frac{\\partial C}{\\partial S}$, $\\frac{\\partial^2 C}{\\partial S^2}$, and $\\frac{\\partial C}{\\partial t}$ are option's delta ($\\Delta$), gamma ($\\Gamma$), and theta($\\Theta$). The equation states that changes in an option's value depend on the sensitivity of option to change in stock price (delta), the sensitivity of the option's delta to changes in the stock price (gamma), and the sensitivity of option to the passage of time (theta)."
   ]
  },
  {
   "cell_type": "markdown",
   "id": "4f005e69-2755-457d-8961-60becf619b64",
   "metadata": {},
   "source": [
    "The interest rate component plays two roles. First, because BSM values options from the forward price, the interest rate takes us from the spot price to the forward price, assuming stock pays no dividend. This \"spot-to-forward\" relationship appears in equation as $rS$.\n",
    "\n",
    "Second, the equation initially gives us the expected value of the option as time passes. To determine option's theoretical value, we must discount expected value backwards to get present value. This \"expected-value-to-present-value\" relationship appears in equation as $rC$."
   ]
  },
  {
   "cell_type": "markdown",
   "id": "828f4223-7f0f-4174-87d7-e7ccc432c850",
   "metadata": {},
   "source": [
    "The rate at which the delta changes depends not only on the gamma but on the speed at which stock price is changing. The speed is expressed as a volatility or standard deviation $\\sigma$. The volatility component and its effect on the gamma appear in equation as $\\frac{1}{2}\\sigma^2 S^2\\frac{\\partial^2 C}{\\partial S^2} = \\frac{1}{2}\\sigma^2 S^2 \\Gamma$."
   ]
  },
  {
   "cell_type": "markdown",
   "id": "fa5ef47c-b076-4007-99d2-aa268348999a",
   "metadata": {},
   "source": [
    "The solution to the Black-Scholes equation yields the well-known Black-Scholes model (BSM).\n",
    "\n",
    "$C$ = theoretical value of a European call\n",
    "\n",
    "$S$ = the price of a non-dividend paying stock\n",
    "\n",
    "$X$ = exercise price\n",
    "\n",
    "$t$ = time to expiration, in years\n",
    "\n",
    "$\\sigma$ = annual standard deviation (volatility) of the stock price, in percent\n",
    "\n",
    "$r$ = annual interest rate\n",
    "\n",
    "$ln$ = the natural logrithm\n",
    "\n",
    "$e$ = the exponential function\n",
    "\n",
    "$N$ = the cumulative normal distribution function"
   ]
  },
  {
   "cell_type": "markdown",
   "id": "4d0e4a67-4c81-4a26-9db1-617b4a09801f",
   "metadata": {},
   "source": [
    "$$ C = S N(d_1) - X e^{-r t} N(d_2) $$"
   ]
  },
  {
   "cell_type": "markdown",
   "id": "b780be60-d06f-4024-a016-dfcb1559f52c",
   "metadata": {},
   "source": [
    "$$ d_1 = \\frac{ln(S/X) + [r + (\\sigma^2/2)]t}{\\sigma\\sqrt{t}} $$"
   ]
  },
  {
   "cell_type": "markdown",
   "id": "ebdecd31-c774-4873-bcd8-7974b2503772",
   "metadata": {},
   "source": [
    "$$ d_2 = \\frac{ln(S/X) + [r + (\\sigma^2 / 2)] t}{\\sigma \\sqrt{t}} = d_1 - \\sigma \\sqrt{t} $$"
   ]
  },
  {
   "cell_type": "markdown",
   "id": "e4199c0b-a794-4154-b283-2119070b2981",
   "metadata": {},
   "source": [
    "### Put-Call Parity\n",
    "\n",
    "$P$ = theoretical value of a European put\n",
    "\n",
    "$F$ = the Forward price of a non-dividend paying stock\n",
    "\n",
    "Forward price of non-dividend paying stock\n",
    "\n",
    "$$ F = S (1 + r t) $$\n",
    "\n",
    "put-call parity\n",
    "\n",
    "$$ C - P = \\frac{F - X}{1 + r t} = \\frac{S(1 + r t) - X}{1 + r t} = S - \\frac{X}{1 + r t}$$"
   ]
  },
  {
   "cell_type": "markdown",
   "id": "378b814b-a540-448d-bf2e-9bdbdf87547f",
   "metadata": {},
   "source": [
    "Till now, we have used simple interest. If instead we use continuous interest,\n",
    "\n",
    "$$ C - P = S -X e^{-r t} $$"
   ]
  },
  {
   "cell_type": "markdown",
   "id": "b3c9ffcd-624c-44ca-a8ce-7a6bc202b7da",
   "metadata": {},
   "source": [
    "Because a put can never be worth less than 0, the lower arbitrage boundary for a European call option is the greater of either 0 or $S - X e^{-r t}$. This expression looks similar to the BS value for a call option, but without the terms, $N(d_1)$ and $N(d_2)$ attached to $S$ and $X e^{-r t}$, respectively. What do $N(d_1)$ and $N(d_2)$ represent?"
   ]
  },
  {
   "cell_type": "markdown",
   "id": "cd3fd739-1262-4786-82d4-bbf6555962c7",
   "metadata": {},
   "source": [
    "The expected value for a call option is the sum of the intinsic value multiplied by the probability associated with each underlying price\n",
    "\n",
    "$$ \\sum \\limits _{i=1} ^{i=n} {p_i max(S_i - X, 0)} $$\n",
    "\n",
    "To determine the option's intrinsic value, we combined the underlying price and exercise price into one expression $(S_i - X)$."
   ]
  },
  {
   "cell_type": "markdown",
   "id": "712274ac-f93e-44fb-a94f-7dc66509e39c",
   "metadata": {},
   "source": [
    "The BSM takes a slightly different approach by separating the underlying price and exercise price into two distinct components and then asking two questions:\n",
    "\n",
    "1. If held to expiration, what is the average value of all the stock above the exercise price?\n",
    "\n",
    "2. If held to expiration, what is the likelihood that the owner of an option will end up paying the exercise price?\n",
    "\n",
    "The difference between \"the average value of the stock above the exercise price\" and \"the likelihood of paying the exercise price should equal the option's expected value."
   ]
  },
  {
   "cell_type": "markdown",
   "id": "b69eb2c2-76a5-4db5-b177-ba4f441c96df",
   "metadata": {},
   "source": [
    "In BSM, the average value of all stock above the exercise price is $Se^{rt}N(d_1)$ where $Se^{rt}$ is the forward price of stock. The average amount we will have to pay is given by $XN(d_2)$. The expected value for a call option is the difference between these two numbers\n",
    "\n",
    "$$ Se^{rt}N(d_1) - XN(d_2) = e^{rt} [SN(d_1) - Xe^{-rt}N(d_2)] $$\n",
    "\n",
    "This is essentially the approach taken by BSM. The primary difference is that the BSM, rather than using discrete outcomes, assumes a continuous lognormal distribution."
   ]
  },
  {
   "cell_type": "markdown",
   "id": "dc0e5c8e-85db-40c6-b95d-1d9a98a8caeb",
   "metadata": {},
   "source": [
    "### $n(x)$ and $N(x)$ - Two important probability functions\n",
    "\n",
    "$n(x)$, the *standard normal distribution*, has a mean of 0 and a standard deviation of 1. The standard normal distribution also has one very useful characteristic: the total area under the curve adds up to exactly 1, i.e. the curve represents 100% of all occurrences that form a true normal distribution.\n",
    "\n",
    "We may want to know what percent of the occurrences fall within a specific portion of the standard distribution. This is given by $N(x)$, the *standard cumulative normal distribution function*. If $x$ is some number of standard deviations, $N(x)$ returns probability of getting an occurrence less than $x$ by calculating the area under the standard normal distribution curve between the values of $-\\infty$ and $x$, i.e. $N(x)$ tells us what percentage of all possible occurrences fall between $-\\infty$ and $x$.\n",
    "\n",
    "Obviously, $N(+\\infty)$ must be 1.00 because 100% of all occurrences must fall between $-\\infty$ and $+\\infty$. And, $N(-\\infty)$ must be 0 because there can be no occurrence to the left of $-\\infty$. Because the normal distribution curve is symmetrical, with 50% of the occurrences falling on the left of 0 and 50% to the right, $N(0)$ must equal 0.50. It also follows that the area under the curve between $-\\infty$ and $x$ must be equal to the area under the curve between $-x$ and $+\\infty$."
   ]
  },
  {
   "cell_type": "markdown",
   "id": "907ba2f0-b930-40a1-b6db-6a652ec7208d",
   "metadata": {},
   "source": [
    "$$ N(-\\infty) = 0 $$\n",
    "\n",
    "$$ N(+\\infty) = 1 $$\n",
    "\n",
    "$$ N(0) = 0.50 $$\n",
    "\n",
    "$$ N(-x) = 1 - N(x) $$"
   ]
  },
  {
   "cell_type": "markdown",
   "id": "922f8a09-ab52-4ac9-b1fa-1cba1d711252",
   "metadata": {},
   "source": [
    "The BSM makes all calculations using the probabilities associated with a normal distribution. By making some adjustments to the value of $x$, we can use $N(x)$ to generate probabilities associated with a lognormal distribution.\n",
    "\n",
    "**Mode**: The peak of the distribution, the point at which the greatest number of occurrences take place.\n",
    "\n",
    "**Mean**: The balance point of the distribution, the point at which half the value of the occurrences fall to the left and half to the right.\n",
    "\n",
    "**Median**: The point at which half of the occurrences (count) fall to the left and half to the right.\n",
    "\n",
    "In a perfect normal distribution, all these points fall in the same place, exactly in the middle of the distribution. To make the appropriate adjustments to a lognormal distribution so that we can use the probabilities associated with a normal distribution, we must locate these numbers."
   ]
  },
  {
   "cell_type": "markdown",
   "id": "678fcff6-4a7b-4487-814b-4cfd430e8b05",
   "metadata": {},
   "source": [
    "<u>The relationship between the exercise price and the underlying price</u>: Normal distribution $S - X$, Longnormal distribution $ln\\left( \\frac{S}{X} \\right)$. If $S > X$, this value is positive and the call is in the money (ITM); if $S < X$, the value is negative, and the call is out of the money (OTM).\n",
    "\n",
    "Because options are valued off <u>the forward price</u>, which is a function of interest rates, adjust this relationship by the interest component over life of option $rt$.\n",
    "\n",
    "$$ ln\\left( \\frac{S}{X} \\right)+rt = ln\\left( \\frac{Se^{rt}}{X} \\right) $$"
   ]
  },
  {
   "cell_type": "markdown",
   "id": "934bcbef-594b-4f90-bbd3-ef32f7d1bb70",
   "metadata": {},
   "source": [
    "The number of standard deviations associated with an occurrence depends on how far the occurrence is from the mean of the distribution. In a normal distribution, the mean like the mode, is located in the exact center of the distribution. But <u>in a lognormal distribution, with its elongated right tail, the mean must be somewhere to the right of the mode. How far to the right?</u> This depends on the standard deviation of the lognormal distribution. The higher the standard deviation, the longer the right tail, and consequently, the further to the right we must shift the mean. Mathematically, the shift is equal to  $\\frac{\\sigma^2t}{2}$.\n",
    "\n",
    "$$ ln\\left( \\frac{S}{X} \\right) + rt + \\frac{\\sigma^2t}{2} = ln\\left( \\frac{S}{X} \\right) + \\left( r + \\frac{\\sigma^2}{2}\\right)t $$"
   ]
  },
  {
   "cell_type": "markdown",
   "id": "62f0cfa9-ebc8-4449-bf65-f263ff7e2719",
   "metadata": {},
   "source": [
    "Finally, we must convert this value to some number of standard deviations. If we know <u>the value of one standard deviation</u>, we can divide by this value determine the total number of standard deviations.\n",
    "\n",
    "Over any time period $t$, one standard deviation is equal to $\\sigma\\sqrt{t}$. If we divide by this value, the result, $d_1$, tells us, in standard deviations, how far the exercise price is from the mean when adjusted for lognormal distribution.\n",
    "\n",
    "$$ d_1= \\frac{ln\\left( \\frac{S}{X} \\right) + \\left( r + \\frac{\\sigma^2}{2}\\right)t}{\\sigma\\sqrt{t}} $$\n",
    "\n",
    "This enables us to use a cumulative normal distribution function to calculate probabilities.\n",
    "\n",
    "Once we have determined the value of $d_1$, multiplying the forward price of the stock by $N(d_1)$ gives us the average value of all stock above the exercise price at expirayion."
   ]
  },
  {
   "cell_type": "markdown",
   "id": "a537849b-1127-4d2a-a186-922609722736",
   "metadata": {},
   "source": [
    "Having calculated the average value of all stock above the exercise price, we still need to determine <u>the likelihood that the option will be exercised</u>. To do this, we need the median of the distribution, the point that exactly bisects the total number of occurrences. The median in a lognormal distribution falls somewhere to the left of the mean. How far to the left? In fact, the median falls to the left by $\\sigma\\sqrt{t}$.\n",
    "\n",
    "$$ d_2 = d_1 - \\sigma\\sqrt{t} $$\n",
    "\n",
    "The value $N(d_2)$ uses the median to calculate the probability of the option being in the money at expiration and therefore being exercised. Multiplying this probability by the exercise price gives us the average amount we will pay at expiration if we own the option $XN(d_2)$.\n",
    "\n",
    "Taking the average value of the stock we will receive at expiration and subtracting the average amount we will pay at expiration gives us the expected value for the call $Se^{rt}N(d_1) - XN(d_2)$.\n",
    "\n",
    "The expression $Se^{rt}N(d_1) - XN(d_2)$ represents the expected value of the option at expiration. If we must pay for the option today, the theoretical value is the present value of the expected value.\n",
    "\n",
    "$$ C = \\left[ Se^{rt}N(d_1) - XN(d_2) \\right] e^{-rt} = SN(d_1) - Xe^{-rt}N(d_2) $$"
   ]
  },
  {
   "cell_type": "markdown",
   "id": "55273d5c-8bd1-476e-bc68-2fd9056cb4b9",
   "metadata": {},
   "source": [
    "In the original BSM, the underlying contract was assumed to be a non-dividend paying stock. Since then, model has been extended to evaluate options on other types, commonly done by including an adjustment factor $b$ depending on underlying type and settlement procedure. If $r$ is the domestic interest rate and $r_j$ is the foreign interest rate, then\n",
    "\n",
    "$b = r$: The original BSM for options on a non-dividend paying stock\n",
    "\n",
    "$b = 0$: The Black model for options on futures where the options are subject to stock-type settlement\n",
    "\n",
    "$b = r = 0$: The BSM for options on futures where the options are subject to future-type settlement\n",
    "\n",
    "$b = r - r_j$: The Garman-Kohlhagen model for options on foreign currencies, where $r_j$ is the foreign interest rate\n",
    "\n",
    "For options on a dividend paying stock the spot price $S$ must be discounted by the value of the expected dividend payments. This can be approximated by setting $b = r - q$ where $q$ is the annual dividend yield in percent. For a more exact calculation, we can deduct from $S$ the value of each dividend payment $D$ together with interest which can be earned on that dividend payment to expiration. $S$ is then replaced by $S = \\sum D_i e^{rt_d}$ where $t_d$ is the time remaining from each dividend payment to expiration of the option.\n",
    "\n",
    "The complete BSM, with variations and sensitivities is given in Figure 18-6 and reproduced below."
   ]
  },
  {
   "cell_type": "markdown",
   "id": "856fbac2-f2f2-42e4-8d86-bdf34003cfd9",
   "metadata": {},
   "source": [
    "### Figure 18-6 The Black-Scholes model\n",
    "\n",
    "The value of a European call $C$ and of a European put $P$\n",
    "\n",
    "$$ C = S e^{(b - r) t} N(d_1) - X e^{-r t} N(d_2) $$\n",
    "\n",
    "$$ P = X e^{-r t} N(-d_2) - S e^{(b - r) t} N(-d_1)  $$\n",
    "\n",
    "where\n",
    "\n",
    "$$ d_1= \\frac{ln\\left( \\frac{S}{X} \\right) + \\left( b + \\frac{\\sigma^2}{2}\\right)t}{\\sigma\\sqrt{t}} $$\n",
    "\n",
    "$$ d_2 = d_1 - \\sigma\\sqrt{t} = \\frac{ln\\left( \\frac{S}{X} \\right) + \\left( b - \\frac{\\sigma^2}{2}\\right)t}{\\sigma\\sqrt{t}}$$\n",
    "\n"
   ]
  },
  {
   "cell_type": "markdown",
   "id": "de3c68dc-120c-4661-8563-417125417fe5",
   "metadata": {},
   "source": [
    "#### Delta $ \\Delta $\n",
    "\n",
    "$$ \\Delta_{call} = e^{(b - r) t} N(d_1) $$\n",
    "\n",
    "$$ \\Delta_{put} = e^{(b - r) t} \\left[N(d_1) - 1 \\right] $$"
   ]
  },
  {
   "cell_type": "markdown",
   "id": "9cc43320-c631-434c-97b0-316c315e147a",
   "metadata": {},
   "source": [
    "#### Gamma $ \\Gamma $\n",
    "\n",
    "Same for both calls and puts\n",
    "\n",
    "$$ \\Gamma = \\frac{e^{(b - r) t} n(d_1)}{S \\sigma \\sqrt{t}} $$"
   ]
  },
  {
   "cell_type": "markdown",
   "id": "67311655-6bc6-40e3-8fee-5fbd1858c314",
   "metadata": {},
   "source": [
    "#### Theta $ \\Theta $\n",
    "\n",
    "The theta formula gives the sensitivity of the option to the passage of one year. To express theta values in the more common form of daily decay the theta must be divided by 365.\n",
    "\n",
    "$$ \\Theta_{call} = \\frac{-S e^{(b - r) t} n(d_1) \\sigma}{2 \\sqrt{t}} + (b - r) S e^{(b - r) t} N(d_1) - r X e^{-r t} N(d_2) $$\n",
    "\n",
    "$$ \\Theta_{put} = \\frac{-S e^{(b - r) t} n(d_1) \\sigma}{2 \\sqrt{t}} + (b - r) S e^{(b - r) t} N(d_1) + r X e^{-r t} N(-d_2) $$"
   ]
  },
  {
   "cell_type": "markdown",
   "id": "8964fe6a-cf63-4fd9-b0e0-70e47c40bd66",
   "metadata": {},
   "source": [
    "#### Vega $ \\nu $\n",
    "\n",
    "The vega formula gives the sensitivity of the option to a one full point (100%) change in volatility. To express vega in the more common form of a one percentage point change in volatility the vega must be divided by 100. It is same for both calls and puts.\n",
    "\n",
    "$$ \\nu = S e^{(b - r) t} n(d_1) \\sqrt{t} $$"
   ]
  },
  {
   "cell_type": "markdown",
   "id": "cd53cf3c-6260-4fb9-926c-52860eb20000",
   "metadata": {},
   "source": [
    "#### Rho $ \\rho $\n",
    "\n",
    "The Rho formula gives the sensitivity of the option to a one full point (100%) change in interest rate. To express Rho in the more common form of a one percentage point change in interest rate the Rho must be divided by 100.\n",
    "\n",
    "$$ \\rho_{call} = t X e^{-r t} N(d_2),\\space if\\space b \\neq 0 \\\\ -t C,\\space if\\space b = 0 $$\n",
    "\n",
    "$$ \\rho_{put} = -t X e^{-r t} N(-d_2),\\space if\\space b \\neq 0 \\\\ -t P,\\space if\\space b = 0 $$"
   ]
  },
  {
   "cell_type": "markdown",
   "id": "db71dc6a-9b04-4c70-964d-b8338af63489",
   "metadata": {},
   "source": [
    "#### Phi $ \\Phi $\n",
    "\n",
    "$$ \\Phi_{call} = -t S e^{(b - r) t} N(d_1) $$\n",
    "\n",
    "$$ \\Phi_{put} = t S e^{(b - r) t} N(-d_1) $$"
   ]
  },
  {
   "cell_type": "markdown",
   "id": "5d7dc48d-d561-40dd-83c2-834f3b339e6b",
   "metadata": {},
   "source": [
    "#### Elasticity $ \\Lambda $\n",
    "\n",
    "$$ \\Lambda_{call} = \\Delta_{call} \\left( \\frac{S}{C} \\right) $$\n",
    "\n",
    "$$ \\Lambda_{put} = \\Delta_{put} \\left( \\frac{S}{P} \\right) $$"
   ]
  },
  {
   "cell_type": "markdown",
   "id": "184b9db0-5d91-44b0-b524-4dd466e33496",
   "metadata": {},
   "source": [
    "## Introduction to QuantLib Python\n",
    "> http://gouthamanbalaraman.com/blog/quantlib-basics.html"
   ]
  },
  {
   "cell_type": "code",
   "execution_count": 1,
   "id": "f02f4b50-8c56-4325-a806-0c3a71605e3f",
   "metadata": {},
   "outputs": [],
   "source": [
    "import QuantLib as ql"
   ]
  },
  {
   "cell_type": "markdown",
   "id": "a0f1fc9f-cabb-4a45-a73e-c9edcb05d4bd",
   "metadata": {},
   "source": [
    "### Time SubModule"
   ]
  },
  {
   "cell_type": "code",
   "execution_count": 16,
   "id": "58560611-ce9b-4773-a1bd-c100330a7d8b",
   "metadata": {},
   "outputs": [
    {
     "name": "stdout",
     "output_type": "stream",
     "text": [
      "March 31st, 2022\n",
      "31\n",
      "False\n",
      "True\n",
      "April 1st, 2022\n",
      "5\n",
      "May 31st, 2022\n"
     ]
    }
   ],
   "source": [
    "# ql/time time related classes.\n",
    "# Date object\n",
    "date = ql.Date(31, 3, 2022)\n",
    "print(date)\n",
    "\n",
    "print(date.dayOfMonth())\n",
    "print(date.weekday() == ql.Tuesday)\n",
    "print(date > ql.Date(21,3,2022))\n",
    "print(date + 1)\n",
    "print(date.weekday())\n",
    "print(date + ql.Period(2, ql.Months))"
   ]
  },
  {
   "cell_type": "code",
   "execution_count": 17,
   "id": "173bac63-363a-465c-8673-47359caa82a6",
   "metadata": {},
   "outputs": [
    {
     "data": {
      "text/plain": [
       "[Date(3,1,2022),\n",
       " Date(1,2,2022),\n",
       " Date(1,3,2022),\n",
       " Date(1,4,2022),\n",
       " Date(2,5,2022),\n",
       " Date(1,6,2022),\n",
       " Date(1,7,2022),\n",
       " Date(1,8,2022),\n",
       " Date(1,9,2022),\n",
       " Date(3,10,2022),\n",
       " Date(1,11,2022),\n",
       " Date(1,12,2022),\n",
       " Date(3,1,2023)]"
      ]
     },
     "execution_count": 17,
     "metadata": {},
     "output_type": "execute_result"
    }
   ],
   "source": [
    "# The schedule object to construct periodic payments\n",
    "\n",
    "date1 = ql.Date(1, 1, 2022)\n",
    "date2 = ql.Date(31, 12, 2022)\n",
    "tenor = ql.Period(ql.Monthly)\n",
    "calendar = ql.UnitedStates() # to identify holidays\n",
    "\n",
    "# ql.Following args are to choose the day following holidays and weekends\n",
    "\n",
    "schedule = ql.Schedule(date1, date2, tenor, calendar, ql.Following, ql.Following, ql.DateGeneration.Forward, False)\n",
    "list(schedule)"
   ]
  },
  {
   "cell_type": "markdown",
   "id": "bc2caf59-03c2-4e7b-9e2b-2f46c5243dde",
   "metadata": {},
   "source": [
    "### European Option Pricing with QuantLib Python\n",
    "\n",
    "> http://gouthamanbalaraman.com/blog/european-option-binomial-tree-quantlib-python.html"
   ]
  },
  {
   "cell_type": "code",
   "execution_count": 50,
   "id": "972a1aed-50cb-4070-8570-40484d84dc44",
   "metadata": {},
   "outputs": [
    {
     "name": "stdout",
     "output_type": "stream",
     "text": [
      "The theoretical price is: 3.8805537838149355\n",
      "Delta: -0.4299099073558979\n",
      "Gamma: 0.03344704541974323\n",
      "Vega: 11.158696655184613\n",
      "Theta: -0.23058187418601775\n",
      "Rho: -2.355808789429228\n",
      "Elasticity: -17.46536723117597\n"
     ]
    }
   ],
   "source": [
    "# option data\n",
    "\n",
    "maturity_date = ql.Date(13, 5, 2022)\n",
    "spot_price = 157.65\n",
    "strike_price = 155\n",
    "volatility = 0.4083 # historical vols for a year\n",
    "dividend_rate = 0.23\n",
    "option_type = ql.Option.Put\n",
    "\n",
    "risk_free_rate = 0.01\n",
    "day_count = ql.Actual365Fixed()\n",
    "calendar = ql.UnitedStates()\n",
    "\n",
    "calculate_date = ql.Date_todaysDate()\n",
    "ql.Settings.instance().evaluationDate = calculate_date\n",
    "\n",
    "# Construct the European Option\n",
    "payoff = ql.PlainVanillaPayoff(option_type, strike_price)\n",
    "exercise = ql.EuropeanExercise(maturity_date)\n",
    "european_option = ql.VanillaOption(payoff, exercise)\n",
    "\n",
    "# Collect quoted market data\n",
    "u = ql.SimpleQuote(spot_price)\n",
    "r = ql.SimpleQuote(risk_free_rate)\n",
    "sigma = ql.SimpleQuote(volatility)\n",
    "\n",
    "# Black-Scholes-Merton\n",
    "spot_handle = ql.QuoteHandle(u)\n",
    "\n",
    "riskFreeCurve = ql.FlatForward(calculate_date, ql.QuoteHandle(r), day_count)\n",
    "volatility = ql.BlackConstantVol(calculate_date, calendar, ql.QuoteHandle(sigma), day_count)\n",
    "dividendCurve = ql.FlatForward(calculate_date, dividend_rate, day_count)\n",
    "\n",
    "flat_ts = ql.YieldTermStructureHandle(riskFreeCurve)\n",
    "dividend_yield = ql.YieldTermStructureHandle(dividendCurve)\n",
    "flat_vol_ts = ql.BlackVolTermStructureHandle(volatility)\n",
    "\n",
    "bsm_process = ql.BlackScholesMertonProcess(ql.QuoteHandle(u), \n",
    "                                           dividend_yield, \n",
    "                                           flat_ts, \n",
    "                                           flat_vol_ts)\n",
    "\n",
    "engine = ql.AnalyticEuropeanEngine(bsm_process)\n",
    "european_option.setPricingEngine(engine)\n",
    "\n",
    "# Compute theoretical price\n",
    "bs_price = european_option.NPV()\n",
    "print(\"The theoretical price is: {}\".format(bs_price))\n",
    "\n",
    "# Compute Greeks\n",
    "print('Delta: {}\\nGamma: {}\\nVega: {}\\nTheta: {}\\nRho: {}\\nElasticity: {}'.format(\n",
    "    european_option.delta(), \n",
    "    european_option.gamma(),\n",
    "    european_option.vega(),\n",
    "    european_option.thetaPerDay(),\n",
    "    european_option.rho(),\n",
    "    european_option.elasticity())\n",
    "     )"
   ]
  },
  {
   "cell_type": "code",
   "execution_count": 38,
   "id": "eb699071-f080-4cf7-aa3a-90969945b8cd",
   "metadata": {},
   "outputs": [
    {
     "data": {
      "text/plain": [
       "0.19999996775050272"
      ]
     },
     "execution_count": 38,
     "metadata": {},
     "output_type": "execute_result"
    }
   ],
   "source": [
    "# Compute IV given value of an option\n",
    "european_option.impliedVolatility(bs_price, bsm_process)"
   ]
  },
  {
   "cell_type": "code",
   "execution_count": null,
   "id": "8673c4c9-cf99-4f4c-ae6e-f09746999082",
   "metadata": {},
   "outputs": [],
   "source": []
  }
 ],
 "metadata": {
  "kernelspec": {
   "display_name": "Python 3 (ipykernel)",
   "language": "python",
   "name": "python3"
  },
  "language_info": {
   "codemirror_mode": {
    "name": "ipython",
    "version": 3
   },
   "file_extension": ".py",
   "mimetype": "text/x-python",
   "name": "python",
   "nbconvert_exporter": "python",
   "pygments_lexer": "ipython3",
   "version": "3.8.12"
  }
 },
 "nbformat": 4,
 "nbformat_minor": 5
}
