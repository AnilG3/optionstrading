{
 "cells": [
  {
   "cell_type": "markdown",
   "id": "7a0ace07-885d-4a4b-86f7-ffd9af07e2a4",
   "metadata": {},
   "source": [
    "#### Download Stock and Option Price Data for Group of Securities."
   ]
  },
  {
   "cell_type": "code",
   "execution_count": 1,
   "id": "1e18ca0e-db9e-42a3-9627-73a242521a2a",
   "metadata": {
    "jupyter": {
     "source_hidden": true
    },
    "tags": []
   },
   "outputs": [],
   "source": [
    "import numpy as np\n",
    "import pandas as pd\n",
    "\n",
    "from tqdm import tqdm\n",
    "\n",
    "from datetime import datetime, date\n",
    "\n",
    "import pandas_datareader.data as web\n",
    "from pandas_datareader.yahoo.headers import DEFAULT_HEADERS\n",
    "\n",
    "import requests\n",
    "from time import sleep\n",
    "\n",
    "import yfinance as yf # for minute data, https://github.com/ranaroussi/yfinance"
   ]
  },
  {
   "cell_type": "code",
   "execution_count": 2,
   "id": "f95d63be-622a-4a00-a799-15826b0d64a5",
   "metadata": {
    "jupyter": {
     "source_hidden": true
    },
    "tags": []
   },
   "outputs": [],
   "source": [
    "# Functions to retrieve Stock Price and Options Data\n",
    "\n",
    "# Get daily stock price data using Pandas Datareader from Yahoo! Finance\n",
    "def get_stock_price_using_pdr(security, period=1):\n",
    "    # security = Ticker symbol of stock, string ex: 'TQQQ'\n",
    "    # period = Years of data to reterive, integer ex: 1 for 1 year\n",
    "    session = requests.Session()\n",
    "    session.headers = DEFAULT_HEADERS\n",
    "\n",
    "    source = 'yahoo' # Source of data\n",
    "    end_date = datetime.now()\n",
    "    start_date = end_date.replace(year = end_date.year - period)\n",
    "        \n",
    "    df = web.DataReader(security, source, start_date, end_date, session=session)\n",
    "    df = df.sort_values(by='Date')\n",
    "    df = df.dropna()\n",
    "    \n",
    "    # Save to CSV file\n",
    "    file_name = 'data/{}_daily_{}.csv'.format(security, df.index[-1].strftime('%Y%m%d'))\n",
    "    df.to_csv(file_name)\n",
    "    #print('{} stock {} year daily price data downloaded.'.format(security, period))\n",
    "    \n",
    "    return file_name\n",
    "\n",
    "# Get minute level stock price data using yfinance\n",
    "def get_stock_price_data_using_yf(security, period='1mo', interval='2m'):\n",
    "    # security = Ticker symbol, string ex: 'AAPL'\n",
    "    # period = Months/Days of data to retrieve, string ex: '1mo' for 1 month\n",
    "    # interval = Interval between price data, string ex: '2m' for 2 minute\n",
    "            \n",
    "    df = yf.Ticker(security).history(period=period, interval=interval, \\\n",
    "                                           actions=False, auto_adjust=False)\n",
    "    df = df.sort_values(by='Datetime')\n",
    "    df = df.dropna()\n",
    "\n",
    "    # Save to CSV file\n",
    "    file_name = 'data/{}_{}_{}.csv'.format(security, interval, \\\n",
    "                                           df.index[-1].strftime('%Y%m%d%H%M%S'))\n",
    "    df.to_csv(file_name)\n",
    "    #print('{} stock {} month {} price data downloaded.'.format(security, period, interval))\n",
    "\n",
    "    return file_name\n",
    "\n",
    "# Get Option Data using pandas datareader\n",
    "def get_options_data_using_pdr(security):\n",
    "    # Retrieve Options Data from Yahoo! Finance\n",
    "    session = requests.Session()\n",
    "    session.headers = DEFAULT_HEADERS\n",
    "\n",
    "    options = web.YahooOptions(security, session=session)\n",
    "    df = options.get_all_data()\n",
    "\n",
    "    # Flatten the option pricing df and save as CSV\n",
    "    df = df.reset_index()\n",
    "\n",
    "    # find the latest Quote time\n",
    "    latest_quote = df.Quote_Time.max()\n",
    "        \n",
    "    # Save to CSV file\n",
    "    file_name = 'data/{}_options_{}.csv'.format(security, latest_quote.strftime('%Y%m%d'))\n",
    "    df.to_csv(file_name, index=False)\n",
    "    #print('{} option data downloaded.'.format(security))\n",
    "    \n",
    "    return file_name\n",
    "\n",
    "# Get Historical Corporate Actions using pandas datareader\n",
    "def get_actions_using_pdr(security):\n",
    "    # Retrieve Historical Corporate Actions from Yahoo! Finance\n",
    "    actions = web.DataReader(security, 'yahoo-actions')\n",
    "    \n",
    "    if (actions.empty != True):\n",
    "        # Save to CSV file\n",
    "        file_name = 'data/{}_actions.csv'.format(security)\n",
    "        actions.to_csv(file_name)\n",
    "        #print('{} corporate actions data downloaded.'.format(security))\n",
    "\n",
    "        return file_name\n",
    "    else:\n",
    "        return None\n",
    "\n",
    "# Get Next Corporate Activity using yfinance\n",
    "def get_calendar_using_yf(security):\n",
    "    x = yf.Ticker(security)\n",
    "    \n",
    "    calendar = x.calendar\n",
    "    \n",
    "    if (calendar is not None):\n",
    "        # Save to CSV file\n",
    "        file_name = 'data/{}_calendar.csv'.format(security)\n",
    "        calendar.to_csv(file_name)\n",
    "        #print('{} calendar data downloaded'.format(security))\n",
    "        \n",
    "        return file_name\n",
    "    else:\n",
    "        return None\n",
    "    \n",
    "# Get Historical Earnings using yfinance\n",
    "def get_earnings_hist_using_yf(security):\n",
    "    x = yf.Ticker(security)\n",
    "    \n",
    "    earnings_hist = x.earnings_dates\n",
    "    \n",
    "    if (earnings_hist.empty != True):\n",
    "        # Save to CSV file\n",
    "        file_name = 'data/{}_earnings_hist.csv'.format(security)\n",
    "        earnings_hist.to_csv(file_name)\n",
    "        #print('{} earnings history data downloaded'.format(security))\n",
    "    \n",
    "        return file_name\n",
    "    else:\n",
    "        return None\n",
    "    \n",
    "# Get Historical Earnings and price change from Earnings from TipRanks\n",
    "def get_earnings_hist_from_tipranks(security):\n",
    "    \n",
    "    try:\n",
    "        # Get Earnings data for specific security from TipRanks\n",
    "\n",
    "        url = 'https://www.tipranks.com/stocks/{}/earnings'\n",
    "        header = {'User-Agent': 'Mozilla/5.0 (Macintosh; Intel Mac OS X 10_12_2) AppleWebKit/537.36 (KHTML, like Gecko) Chrome/55.0.2883.95 Safari/537.36'}\n",
    "\n",
    "        r = requests.get(url.format(security), headers=header)\n",
    "\n",
    "\n",
    "        # Eaxtract data from Earnings History table\n",
    "        eps_hist_df = pd.read_html(r.content, match=\"EPS YoY Change\", index_col=None, parse_dates=True)\n",
    "        eps_hist_df = eps_hist_df[0]\n",
    "\n",
    "        df = pd.DataFrame({\n",
    "            'report_date': pd.to_datetime(eps_hist_df['Report Date']), \n",
    "            'eps_prev_yr': eps_hist_df[\"Last Year's EPS\"]\n",
    "        })\n",
    "\n",
    "        df = df.join([\n",
    "            eps_hist_df['Fiscal Quarter'].str.split(' ', expand=True).rename(columns={0: 'fiscal_yr', 1: 'fiscal_qtr'}),\n",
    "            eps_hist_df['Forecast / EPS'].str.split('/', expand=True).rename(columns={0: 'eps_forecast', 1: 'eps_actual'}),\n",
    "            eps_hist_df['EPS YoY Change'].str.split('% ', expand=True).rename(columns={0: 'eps_yoy_pct', 1: 'eps_yoy_chg'})\n",
    "        ])\n",
    "\n",
    "        df['fiscal_qtr'] = df['fiscal_qtr'].str[2:3]\n",
    "        df['eps_yoy_chg'] = df['eps_yoy_chg'].str[1:-1]\n",
    "\n",
    "        columns=['report_date', 'fiscal_yr', 'fiscal_qtr', 'eps_forecast', 'eps_actual', 'eps_prev_yr', 'eps_yoy_chg', 'eps_yoy_pct']\n",
    "\n",
    "        df = df.reindex(columns=columns)\n",
    "\n",
    "        # Extract data from Price Change table\n",
    "        price_change_df = pd.read_html(r.content, match=\"Price 1 Day Before\", index_col=None, parse_dates=True)\n",
    "        price_change_df = price_change_df[0]\n",
    "\n",
    "        df1 = pd.DataFrame({\n",
    "            'report_date': pd.to_datetime(price_change_df['Report Date']), \n",
    "            'price_1d_before': price_change_df['Price 1 Day Before'].str[1:], \n",
    "            'price_1d_after': price_change_df['Price 1 Day After'].str[1:],\n",
    "            'price_pct_change': price_change_df['Percentage Change'].str[:-1]\n",
    "        })\n",
    "\n",
    "        # Merge past earnings df and price change due to earnings df\n",
    "        df2 = df.merge(df1, on='report_date', how='left')\n",
    "\n",
    "        # Change columns data type\n",
    "        cols = df2.select_dtypes(include=['object']).columns\n",
    "        df2[cols] = df2[cols].apply(pd.to_numeric, errors='coerce')\n",
    "        #display(df2)\n",
    "    except:\n",
    "        df2 = None\n",
    "    \n",
    "    if (df2.empty != True):\n",
    "        # Save to CSV file\n",
    "        file_name = 'data/{}_earnings_hist_tipranks.csv'.format(security)\n",
    "        df2.to_csv(file_name)\n",
    "        #print('{} TipRanks earnings history data downloaded'.format(security))\n",
    "    \n",
    "        return file_name\n",
    "    else:\n",
    "        return None"
   ]
  },
  {
   "cell_type": "code",
   "execution_count": 3,
   "id": "f0a33cfb-bb7c-466a-8e34-ed616d0eb097",
   "metadata": {
    "tags": []
   },
   "outputs": [],
   "source": [
    "# Group of Securities\n",
    "\n",
    "# portfolio holdings\n",
    "etf_holdings = ['TQQQ', 'UPRO']\n",
    "stock_holdings = ['META', 'AAPL', 'PLTR', 'GPRO', 'C']\n",
    "\n",
    "# trades executed with year\n",
    "etf_trades = ['TLT', 'SOXL', 'SQQQ', 'DIA', 'USO']\n",
    "stock_trades = ['DOW', 'NKE', 'WMT', 'TWTR', 'MRK', 'XOM', 'PYPL', 'AMC', 'RBLX', 'DIS', 'SE', 'HD', \\\n",
    "                'M', 'PANW', 'ZM', 'SNOW', 'CRM', 'NVDA', 'CHPT', 'OKTA', 'BTU', 'MSFT', 'AMZN', 'GOOGL', \\\n",
    "                'GME', 'AEO', 'DOCU', 'KR', 'PINS', 'NIO', 'ABNB', 'DVN', 'ADP', 'AXP', 'BX', 'CGC', 'CLOV', \\\n",
    "                'CMCSA', 'LMT', 'RKT', 'SOFI', 'UNH', 'BIIB', 'CI', 'COST', 'TSLA']\n",
    "\n",
    "# index etfs for tracking\n",
    "index_etfs = ['SPY', 'QQQ', 'IWM', 'LQD', 'UVXY', 'VXX']\n",
    "\n",
    "# new etfs and stocks under consideration\n",
    "new_etfs = ['XBI', 'XLK', 'XLY', 'XLF', 'XLE', 'XOP', 'ARKK', 'TBT', 'ARKG', 'SMH']\n",
    "new_stocks = ['BABA', 'INTC', 'AMD', 'T', 'V', 'SBUX', 'UBER']\n",
    "\n",
    "# potential earnings play\n",
    "earning_stocks = ['RAD', 'NKE', 'MU', 'CCL', 'STZ', 'CAG', 'LEVI', 'AEHR', 'TLRY']\n",
    "\n",
    "# etf_list is used to filter earnings report from TipRanks\n",
    "etf_list = etf_holdings + etf_trades + index_etfs + new_etfs\n",
    "\n",
    "master_list = etf_holdings + stock_holdings + etf_trades + stock_trades + index_etfs + new_stocks + new_etfs + earning_stocks\n",
    "\n",
    "# remove duplicates while keeping order\n",
    "master_list = sorted(set(master_list), key=master_list.index)\n",
    "\n",
    "# Exclude tickers (low open interest, low price)\n",
    "#excluded_tickers = ['ADP', 'LMT', 'UNH']\n",
    "excluded_tickers = []\n",
    "\n",
    "securities = [ticker for ticker in master_list if ticker not in excluded_tickers]\n",
    "\n",
    "# PmTraders lotto (Not included in primary download; download separately)\n",
    "lotto_stocks = ['AA', 'ABC', 'ABNB', 'ABT', 'ACHC', 'ACN', 'ADBE', 'ADP', 'ADSK', 'AFL', 'ALB', 'ALGN', 'AMBA', 'AMD', 'AMG', 'AMGN', 'ANET', 'APA', 'APO', 'ASML', \\\n",
    "                'AXON', 'AXP', 'AZO', 'BIIB', 'BILL', 'BLK', 'BNTX', 'BUD', 'BURL', 'BX', 'CAT', 'CCI', 'CF', 'CHTR', \\\n",
    "                'CI', 'CLX', 'CMG', 'COUP', 'CTAS', 'CTRA', 'CVNA', 'CZR', 'DE', 'DFS', 'DHI', 'DIOD', 'DKS', 'DOCU', 'DPZ', 'DUOL', 'EL', \\\n",
    "                'ENPH', 'EOG', 'EXPE', 'EW', 'FCX', 'FFIV', 'FIVE', 'FSLR', 'GD', 'GFS', 'GS', \\\n",
    "                'HES', 'HP', 'HSY', 'HUBB', 'HUBS', 'ILMN', 'INTU', 'IR', 'ISRG', 'ITW', 'JBHT', \\\n",
    "                'KKR', 'KLAC', 'LEN', 'LHX', 'LIN', 'LLY', 'LMT', 'LNG', 'MA', 'MAR', 'MCK', 'MDB', 'MELI', 'MOS', \\\n",
    "                'MPC', 'NDSN', 'NET', 'NFLX', 'NOW', 'NSC', 'NTR', 'OIH', 'OKTA', 'OLED', 'OLN', 'ON', 'PANW', 'PEP', 'PM', \\\n",
    "                'PNC', 'PPG', 'PSX', 'PXD', 'RACE', 'RCL', 'REGN', 'RH', 'ROKU', 'ROST', 'RRC', 'SLB', 'SNOW', 'SPGI', 'SPLK', 'SPOT', \\\n",
    "                'SPT', 'SQM', 'SWKS', 'SYF', 'SYK', 'TEAM', 'TELL', 'TM', 'TMO', 'TNDM', 'TOL', \\\n",
    "                'TSCO', 'TTD', 'TTWO', 'TWLO', 'U', 'UFCS', 'ULTA', 'UNP', 'URI', 'USO', 'VAC', 'VFC', 'VLO', 'VRTX', \\\n",
    "                'W', 'WDAY', 'WDC', 'WHR', 'WM', 'WYNN', 'XHB', 'ZBH', 'ZS']\n",
    "\n",
    "# debug\n",
    "#securities = set(['NG', 'STZ', 'CAG', 'LEVI', 'AEHR', 'TLRY'])\n",
    "#securities = set(earning_stocks)\n",
    "# securities = set(lotto_stocks)\n",
    "\n",
    "# new tickers that are not in previous lists for download\n",
    "#master_list = set(master_list + lotto_stocks)\n",
    "#securities = set([ticker for ticker in lotto_stocks if ticker not in master_list])"
   ]
  },
  {
   "cell_type": "code",
   "execution_count": 4,
   "id": "2f39fb2f-2697-41fc-8f0b-fdece8f4c1f6",
   "metadata": {
    "jupyter": {
     "source_hidden": true
    },
    "tags": []
   },
   "outputs": [
    {
     "name": "stdout",
     "output_type": "stream",
     "text": [
      "Data for 92 securities to be downloaded\n"
     ]
    },
    {
     "name": "stderr",
     "output_type": "stream",
     "text": [
      "Downloading Price Data for TLRY: 100%|██████████| 92/92 [11:07<00:00,  7.25s/it] "
     ]
    },
    {
     "name": "stdout",
     "output_type": "stream",
     "text": [
      "Incomplete for 0: []\n",
      "Successful for 92: ['TQQQ', 'UPRO', 'META', 'AAPL', 'PLTR', 'GPRO', 'C', 'TLT', 'SOXL', 'SQQQ', 'DIA', 'USO', 'DOW', 'NKE', 'WMT', 'TWTR', 'MRK', 'XOM', 'PYPL', 'AMC', 'RBLX', 'DIS', 'SE', 'HD', 'M', 'PANW', 'ZM', 'SNOW', 'CRM', 'NVDA', 'CHPT', 'OKTA', 'BTU', 'MSFT', 'AMZN', 'GOOGL', 'GME', 'AEO', 'DOCU', 'KR', 'PINS', 'NIO', 'ABNB', 'DVN', 'ADP', 'AXP', 'BX', 'CGC', 'CLOV', 'CMCSA', 'LMT', 'RKT', 'SOFI', 'UNH', 'BIIB', 'CI', 'COST', 'TSLA', 'SPY', 'QQQ', 'IWM', 'LQD', 'UVXY', 'VXX', 'BABA', 'INTC', 'AMD', 'T', 'V', 'SBUX', 'UBER', 'XBI', 'XLK', 'XLY', 'XLF', 'XLE', 'XOP', 'ARKK', 'TBT', 'ARKG', 'SMH', 'ADBE', 'FDX', 'RAD', 'MU', 'CCL', 'NG', 'STZ', 'CAG', 'LEVI', 'AEHR', 'TLRY']\n"
     ]
    },
    {
     "name": "stderr",
     "output_type": "stream",
     "text": [
      "\n"
     ]
    }
   ],
   "source": [
    "data = []\n",
    "downloaded_tickers = []\n",
    "troubled_tickers = []\n",
    "\n",
    "# [NOTE]: Randomizing list wasn't effective.\n",
    "# Yahoo! seems to send incomplete data after a while.\n",
    "# Put important tickers first.\n",
    "#shuffle(securities)\n",
    "\n",
    "print('Data for {} securities to be downloaded'.format(len(securities)))\n",
    "\n",
    "pbr = tqdm(securities)\n",
    "for security in pbr:\n",
    "    # The download for this section must be clean and complete\n",
    "    # Redownload incomplete downloaded securities\n",
    "    try:\n",
    "        # daily price data\n",
    "        data.append([security, 'daily', get_stock_price_using_pdr(security)])\n",
    "\n",
    "        # 2 minute price data\n",
    "        data.append([security, '2min', get_stock_price_data_using_yf(security, period='1mo', interval='2m')])\n",
    "\n",
    "        # Option data\n",
    "        data.append([security, 'option', get_options_data_using_pdr(security)])\n",
    "\n",
    "        # Add to list of downloded tickers\n",
    "        downloaded_tickers.append(security)\n",
    "\n",
    "        # sleep randomly\n",
    "        sleep(np.random.uniform(1,2))\n",
    "    except:\n",
    "        print('Download incomplete for: {}'.format(security))\n",
    "        troubled_tickers.append(security)\n",
    "    \n",
    "    pbr.set_description('Downloading Price Data for {}'.format(security))\n",
    "    \n",
    "# Successful and incomplete download info\n",
    "print('Incomplete for {}: {}'.format(len(troubled_tickers), troubled_tickers))\n",
    "print('Successful for {}: {}'.format(len(downloaded_tickers), downloaded_tickers))"
   ]
  },
  {
   "cell_type": "code",
   "execution_count": 5,
   "id": "fec76e50-5367-4669-850f-af9d1b536594",
   "metadata": {
    "jupyter": {
     "source_hidden": true
    },
    "tags": []
   },
   "outputs": [
    {
     "name": "stderr",
     "output_type": "stream",
     "text": [
      "Downloading Tipranks Earnings for TLRY: 100%|██████████| 92/92 [01:42<00:00,  1.11s/it] "
     ]
    },
    {
     "name": "stdout",
     "output_type": "stream",
     "text": [
      "Incomplete for 0: []\n"
     ]
    },
    {
     "name": "stderr",
     "output_type": "stream",
     "text": [
      "\n"
     ]
    }
   ],
   "source": [
    "# Download Tipranks earnings data separately\n",
    "data = []\n",
    "troubled_tickers = []\n",
    "\n",
    "pbar = tqdm(securities)\n",
    "for security in pbar:\n",
    "    try:\n",
    "        if security not in etf_list:\n",
    "            # TipRanks Earnings history\n",
    "            data.append([security, 'tipranks_earning_hist', get_earnings_hist_from_tipranks(security)])\n",
    "    except:\n",
    "        troubled_tickers.append(security)\n",
    "        pass\n",
    "    \n",
    "    pbar.set_description('Downloading Tipranks Earnings for {}'.format(security))\n",
    "\n",
    "print('Incomplete for {}: {}'.format(len(troubled_tickers), troubled_tickers))"
   ]
  },
  {
   "cell_type": "code",
   "execution_count": 6,
   "id": "a4291b7c-330c-41ea-9b75-6a954049032b",
   "metadata": {
    "jupyter": {
     "source_hidden": true
    },
    "tags": []
   },
   "outputs": [
    {
     "name": "stderr",
     "output_type": "stream",
     "text": [
      "Downloading Earnings for TLRY: 100%|██████████| 92/92 [09:30<00:00,  6.20s/it] "
     ]
    },
    {
     "name": "stdout",
     "output_type": "stream",
     "text": [
      "Incomplete for 44: ['DIS', 'SE', 'HD', 'M', 'PANW', 'ZM', 'SNOW', 'CRM', 'NVDA', 'CHPT', 'OKTA', 'BTU', 'MSFT', 'PINS', 'NIO', 'ABNB', 'DVN', 'ADP', 'AXP', 'BX', 'CGC', 'CLOV', 'CMCSA', 'LMT', 'RKT', 'TSLA', 'BABA', 'INTC', 'AMD', 'T', 'V', 'SBUX', 'UBER', 'ADBE', 'FDX', 'RAD', 'MU', 'CCL', 'NG', 'STZ', 'CAG', 'LEVI', 'AEHR', 'TLRY']\n"
     ]
    },
    {
     "name": "stderr",
     "output_type": "stream",
     "text": [
      "\n"
     ]
    }
   ],
   "source": [
    "# Redownload of incomplete downloads\n",
    "#securities = ['PYPL', 'AMC', 'RBLX', 'ABNB', 'ADP', 'AXP', 'BTU', 'BX', 'CGC', 'CLOV', 'CMCSA', 'DIS', 'UNH', 'MSFT', 'AMZN', 'GOOGL', 'BABA', 'TSLA', 'COIN', 'TTD', 'U', 'SONO', 'RIVN', 'ILMN', 'LZ', 'MTTR', 'MQ', 'PLUG', 'WYNN', 'WISH', 'WIX', 'JACK', 'UPST', 'APPS', 'TTWO', 'MARA', 'BLNK', 'LMND', 'SDC', 'DOCN', 'VRM', 'PUBM', 'LAZR', 'ROOT', 'GRPN', 'SWAV', 'RL', 'CPRI', 'WKHS', 'RMBL', 'PLBY', 'ANGI']\n",
    "\n",
    "# Download Yahoo earnings history data separately\n",
    "data = []\n",
    "troubled_tickers = []\n",
    "\n",
    "pbar = tqdm(securities)\n",
    "for security in pbar:\n",
    "\n",
    "    try:\n",
    "        if security not in etf_list:\n",
    "            # Earnings history\n",
    "            data.append([security, 'earning_hist', get_earnings_hist_using_yf(security)])\n",
    "\n",
    "    except:\n",
    "        troubled_tickers.append(security)\n",
    "        pass\n",
    "    \n",
    "    pbar.set_description('Downloading Earnings for {}'.format(security))\n",
    "\n",
    "print('Incomplete for {}: {}'.format(len(troubled_tickers), troubled_tickers))"
   ]
  },
  {
   "cell_type": "code",
   "execution_count": 7,
   "id": "76d040b3-fe77-4376-b327-c92fc717166c",
   "metadata": {
    "jupyter": {
     "source_hidden": true
    },
    "tags": []
   },
   "outputs": [
    {
     "name": "stderr",
     "output_type": "stream",
     "text": [
      "Downloading Corporate Action data for TLRY: 100%|██████████| 92/92 [04:20<00:00,  2.83s/it] "
     ]
    },
    {
     "name": "stdout",
     "output_type": "stream",
     "text": [
      "Incomplete for 0: []\n"
     ]
    },
    {
     "name": "stderr",
     "output_type": "stream",
     "text": [
      "\n"
     ]
    }
   ],
   "source": [
    "# Corporate Action data download\n",
    "data = []\n",
    "troubled_tickers = []\n",
    "\n",
    "# progress bar pbar\n",
    "pbar = tqdm(securities)\n",
    "for security in pbar:\n",
    "\n",
    "    try:\n",
    "        # Corporate Action data\n",
    "        data.append([security, 'corp_action', get_actions_using_pdr(security)])\n",
    "                        \n",
    "    except:\n",
    "        troubled_tickers.append(security)\n",
    "        pass\n",
    "\n",
    "    pbar.set_description('Downloading Corporate Action data for {}'.format(security))\n",
    "\n",
    "print('Incomplete for {}: {}'.format(len(troubled_tickers), troubled_tickers))"
   ]
  },
  {
   "cell_type": "code",
   "execution_count": 8,
   "id": "c1e6f345-1cdc-471f-8f4d-ec1778f7cf5e",
   "metadata": {
    "jupyter": {
     "source_hidden": true
    },
    "tags": []
   },
   "outputs": [
    {
     "name": "stderr",
     "output_type": "stream",
     "text": [
      "Downloading Calendar data for TLRY: 100%|██████████| 92/92 [18:04<00:00, 11.79s/it] "
     ]
    },
    {
     "name": "stdout",
     "output_type": "stream",
     "text": [
      "Incomplete for 0: []\n"
     ]
    },
    {
     "name": "stderr",
     "output_type": "stream",
     "text": [
      "\n"
     ]
    }
   ],
   "source": [
    "# Download Yahoo earnings calendar data\n",
    "data = []\n",
    "troubled_tickers = []\n",
    "\n",
    "# progress bar pbar\n",
    "pbar = tqdm(securities)\n",
    "for security in pbar:\n",
    "    \n",
    "    try:\n",
    "        if security not in etf_list:\n",
    "            # Calendar data\n",
    "            data.append([security, 'calendar', get_calendar_using_yf(security)])\n",
    "\n",
    "    except:\n",
    "        troubled_tickers.append(security)\n",
    "        pass\n",
    "        \n",
    "    pbar.set_description('Downloading Calendar data for {}'.format(security))\n",
    "\n",
    "print('Incomplete for {}: {}'.format(len(troubled_tickers), troubled_tickers))"
   ]
  }
 ],
 "metadata": {
  "kernelspec": {
   "display_name": "Python 3 (ipykernel)",
   "language": "python",
   "name": "python3"
  },
  "language_info": {
   "codemirror_mode": {
    "name": "ipython",
    "version": 3
   },
   "file_extension": ".py",
   "mimetype": "text/x-python",
   "name": "python",
   "nbconvert_exporter": "python",
   "pygments_lexer": "ipython3",
   "version": "3.8.13"
  }
 },
 "nbformat": 4,
 "nbformat_minor": 5
}
