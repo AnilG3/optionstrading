{
 "cells": [
  {
   "cell_type": "code",
   "execution_count": 50,
   "id": "80455a09-797d-4de5-a0bf-12b85d3020c4",
   "metadata": {},
   "outputs": [],
   "source": [
    "# SQLite Database management for stock and options data"
   ]
  },
  {
   "cell_type": "code",
   "execution_count": 51,
   "id": "88c7e05c-ed0a-4729-876d-1911f46db1af",
   "metadata": {},
   "outputs": [],
   "source": [
    "import sqlite3\n",
    "\n",
    "# Connect to database\n",
    "def create_connection(db_file):\n",
    "    # Connect to database\n",
    "    con = None\n",
    "    try:\n",
    "        con = sqlite3.connect(db_file)\n",
    "    except Error as e:\n",
    "        print(e)\n",
    "        \n",
    "    return con\n",
    "\n",
    "def create_table(con, query):\n",
    "    cur = con.cursor()\n",
    "    cur.execute(query)"
   ]
  },
  {
   "cell_type": "code",
   "execution_count": 52,
   "id": "8b0d752b-38ee-4ae7-8be0-6bb0bd71f747",
   "metadata": {},
   "outputs": [],
   "source": [
    "# Constants\n",
    "db_file = 'data/stockdata.db'\n",
    "\n",
    "tbl_dprice = 'price_daily'\n",
    "tbl_2mprice = 'price_2m'\n",
    "tbl_actions = 'actions'\n",
    "tbl_calendar = 'calendar'\n",
    "tbl_earnings = 'earnings_hist'"
   ]
  },
  {
   "cell_type": "code",
   "execution_count": 53,
   "id": "bf4b1543-557a-421d-ab26-d79384897d73",
   "metadata": {},
   "outputs": [],
   "source": [
    "## Create Stock Tables\n",
    "\n",
    "create_query_dprice = \"CREATE TABLE IF NOT EXISTS {} (Symbol CHAR(6) NOT NULL, Date DATE NOT NULL, High DECIMAL(18,4), Low DECIMAL(18,4), Open DECIMAL(18,4), Close DECIMAL(18,4), Volume INT, Adj_Close DECIMAL(18,4), PRIMARY KEY(Symbol, Date));\".format(tbl_dprice)\n",
    "create_query_2mprice = \"CREATE TABLE IF NOT EXISTS {} (Symbol CHAR(6) NOT NULL, Date DATE NOT NULL, Time TIME NOT NULL, High DECIMAL(18,4), Low DECIMAL(18,4), Open DECIMAL(18,4), Close DECIMAL(18,4), Volume INT, Adj_Close DECIMAL(18,4), PRIMARY KEY(Symbol, Date, Time));\".format(tbl_2mprice)\n",
    "create_query_actions = \"CREATE TABLE IF NOT EXISTS {} (Symbol CHAR(6) NOT NULL, Date DATE NOT NULL, Action TEXT, VALUE DECIMAL(18,4), PRIMARY KEY(Symbol, Date));\".format(tbl_actions)\n",
    "create_query_calendar = \"CREATE TABLE IF NOT EXISTS {} (Symbol CHAR(6) NOT NULL, Earn_Date DATE NOT NULL, Earn_Avg DECIMAL(18,4), Earn_Low DECIMAL(18,4), Earn_High DECIMAL(18,4), Rev_Avg DECIMAL(18,4), Rev_Low DECIMAL(18,4), Rev_High DECIMAL(18,4), PRIMARY KEY(Symbol, Earn_Date));\".format(tbl_calendar)\n",
    "create_query_earnings = \"CREATE TABLE IF NOT EXISTS {} (Symbol CHAR(6) NOT NULL, Earn_Date DATE NOT NULL, Earn_Time TIME, EPS_Estimate DECIMAL(18,4), Reported_EPS DECIMAL(18,4), Surprise DECIMAL(18,4), PRIMARY KEY(Symbol, Earn_Date));\".format(tbl_earnings)\n",
    "\n",
    "# Connect to data/stockdata.db data\n",
    "con = create_connection(db_file)\n",
    "\n",
    "#cur = con.cursor()\n",
    "#cur.execute(create_query_dprice)\n",
    "\n",
    "# Create daily_price table to store daily price data for different stocks\n",
    "if con is not None:\n",
    "    create_table(con, create_query_dprice)\n",
    "    create_table(con, create_query_2mprice)\n",
    "    create_table(con, create_query_actions)\n",
    "    create_table(con, create_query_calendar)\n",
    "    create_table(con, create_query_earnings)\n",
    "else:\n",
    "    print('{} database connection not established')\n",
    "    \n",
    "# Create Options Table [TODO:]"
   ]
  },
  {
   "cell_type": "code",
   "execution_count": 54,
   "id": "d9af341d-b632-424d-825c-093bd1ad6237",
   "metadata": {},
   "outputs": [
    {
     "name": "stdout",
     "output_type": "stream",
     "text": [
      "[]\n"
     ]
    }
   ],
   "source": [
    "# Getting data from database\n",
    "cur.execute(\"SELECT * FROM price_daily;\")\n",
    "print(cur.fetchall())"
   ]
  },
  {
   "cell_type": "code",
   "execution_count": 55,
   "id": "c4a9cdee-08da-4971-95e4-0a54d409e943",
   "metadata": {},
   "outputs": [],
   "source": [
    "# Closed connection to database\n",
    "con.commit()\n",
    "con.close()"
   ]
  }
 ],
 "metadata": {
  "kernelspec": {
   "display_name": "Python 3 (ipykernel)",
   "language": "python",
   "name": "python3"
  },
  "language_info": {
   "codemirror_mode": {
    "name": "ipython",
    "version": 3
   },
   "file_extension": ".py",
   "mimetype": "text/x-python",
   "name": "python",
   "nbconvert_exporter": "python",
   "pygments_lexer": "ipython3",
   "version": "3.8.13"
  }
 },
 "nbformat": 4,
 "nbformat_minor": 5
}
